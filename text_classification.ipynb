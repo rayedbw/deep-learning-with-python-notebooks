{
 "cells": [
  {
   "cell_type": "code",
   "execution_count": 1,
   "metadata": {},
   "outputs": [
    {
     "name": "stderr",
     "output_type": "stream",
     "text": [
      "2022-11-01 13:39:52.142318: I tensorflow/core/platform/cpu_feature_guard.cc:193] This TensorFlow binary is optimized with oneAPI Deep Neural Network Library (oneDNN) to use the following CPU instructions in performance-critical operations:  AVX2 AVX_VNNI FMA\n",
      "To enable them in other operations, rebuild TensorFlow with the appropriate compiler flags.\n",
      "2022-11-01 13:39:52.202253: I tensorflow/core/util/util.cc:169] oneDNN custom operations are on. You may see slightly different numerical results due to floating-point round-off errors from different computation orders. To turn them off, set the environment variable `TF_ENABLE_ONEDNN_OPTS=0`.\n",
      "2022-11-01 13:39:52.218685: E tensorflow/stream_executor/cuda/cuda_blas.cc:2981] Unable to register cuBLAS factory: Attempting to register factory for plugin cuBLAS when one has already been registered\n",
      "2022-11-01 13:39:52.544963: W tensorflow/stream_executor/platform/default/dso_loader.cc:64] Could not load dynamic library 'libnvinfer.so.7'; dlerror: libnvinfer.so.7: cannot open shared object file: No such file or directory; LD_LIBRARY_PATH: :/home/rayed/anaconda3/envs/tf/lib/:/home/rayed/anaconda3/envs/tf/lib/\n",
      "2022-11-01 13:39:52.544998: W tensorflow/stream_executor/platform/default/dso_loader.cc:64] Could not load dynamic library 'libnvinfer_plugin.so.7'; dlerror: libnvinfer_plugin.so.7: cannot open shared object file: No such file or directory; LD_LIBRARY_PATH: :/home/rayed/anaconda3/envs/tf/lib/:/home/rayed/anaconda3/envs/tf/lib/\n",
      "2022-11-01 13:39:52.545001: W tensorflow/compiler/tf2tensorrt/utils/py_utils.cc:38] TF-TRT Warning: Cannot dlopen some TensorRT libraries. If you would like to use Nvidia GPU with TensorRT, please make sure the missing libraries mentioned above are installed properly.\n"
     ]
    }
   ],
   "source": [
    "from keras.datasets import imdb\n",
    "\n",
    "(x_train, y_train), (x_test, y_test) = imdb.load_data()"
   ]
  },
  {
   "cell_type": "code",
   "execution_count": 2,
   "metadata": {},
   "outputs": [],
   "source": [
    "import os, pathlib, shutil, random\n",
    "\n",
    "base_dir = pathlib.Path('aclImdb')\n",
    "val_dir = base_dir / 'val'\n",
    "train_dir = base_dir / 'train'\n",
    "for category in ['neg', 'pos']:\n",
    "    os.makedirs(val_dir / category, exist_ok=True)\n",
    "    files = os.listdir(train_dir / category)\n",
    "    random.Random(1337).shuffle(files)\n",
    "    num_val_samples = int(0.2 * len(files))\n",
    "    val_files = files[-num_val_samples:]\n",
    "    for fname in val_files:\n",
    "        shutil.move(train_dir / category / fname,\n",
    "                    val_dir / category / fname)\n"
   ]
  },
  {
   "cell_type": "code",
   "execution_count": 12,
   "metadata": {},
   "outputs": [],
   "source": [
    "# import tensorflow as tf\n",
    "# gpus = tf.config.list_physical_devices('GPU')\n",
    "# if gpus:\n",
    "#   # Restrict TensorFlow to only allocate 1GB of memory on the first GPU\n",
    "#   try:\n",
    "#     tf.config.set_logical_device_configuration(\n",
    "#         gpus[0],\n",
    "#         [tf.config.LogicalDeviceConfiguration(memory_limit=1024)])\n",
    "#     logical_gpus = tf.config.list_logical_devices('GPU')\n",
    "#     print(len(gpus), \"Physical GPUs,\", len(logical_gpus), \"Logical GPUs\")\n",
    "#   except RuntimeError as e:\n",
    "#     # Virtual devices must be set before GPUs have been initialized\n",
    "#     print(e)"
   ]
  },
  {
   "cell_type": "code",
   "execution_count": 3,
   "metadata": {},
   "outputs": [
    {
     "name": "stdout",
     "output_type": "stream",
     "text": [
      "Found 3358 files belonging to 2 classes.\n"
     ]
    },
    {
     "name": "stderr",
     "output_type": "stream",
     "text": [
      "2022-11-01 13:40:06.590444: I tensorflow/stream_executor/cuda/cuda_gpu_executor.cc:980] successful NUMA node read from SysFS had negative value (-1), but there must be at least one NUMA node, so returning NUMA node zero\n",
      "2022-11-01 13:40:06.593728: I tensorflow/stream_executor/cuda/cuda_gpu_executor.cc:980] successful NUMA node read from SysFS had negative value (-1), but there must be at least one NUMA node, so returning NUMA node zero\n",
      "2022-11-01 13:40:06.593811: I tensorflow/stream_executor/cuda/cuda_gpu_executor.cc:980] successful NUMA node read from SysFS had negative value (-1), but there must be at least one NUMA node, so returning NUMA node zero\n",
      "2022-11-01 13:40:06.594080: I tensorflow/core/platform/cpu_feature_guard.cc:193] This TensorFlow binary is optimized with oneAPI Deep Neural Network Library (oneDNN) to use the following CPU instructions in performance-critical operations:  AVX2 AVX_VNNI FMA\n",
      "To enable them in other operations, rebuild TensorFlow with the appropriate compiler flags.\n",
      "2022-11-01 13:40:06.594442: I tensorflow/stream_executor/cuda/cuda_gpu_executor.cc:980] successful NUMA node read from SysFS had negative value (-1), but there must be at least one NUMA node, so returning NUMA node zero\n",
      "2022-11-01 13:40:06.594504: I tensorflow/stream_executor/cuda/cuda_gpu_executor.cc:980] successful NUMA node read from SysFS had negative value (-1), but there must be at least one NUMA node, so returning NUMA node zero\n",
      "2022-11-01 13:40:06.594544: I tensorflow/stream_executor/cuda/cuda_gpu_executor.cc:980] successful NUMA node read from SysFS had negative value (-1), but there must be at least one NUMA node, so returning NUMA node zero\n",
      "2022-11-01 13:40:06.858520: I tensorflow/stream_executor/cuda/cuda_gpu_executor.cc:980] successful NUMA node read from SysFS had negative value (-1), but there must be at least one NUMA node, so returning NUMA node zero\n",
      "2022-11-01 13:40:06.858607: I tensorflow/stream_executor/cuda/cuda_gpu_executor.cc:980] successful NUMA node read from SysFS had negative value (-1), but there must be at least one NUMA node, so returning NUMA node zero\n",
      "2022-11-01 13:40:06.858653: I tensorflow/stream_executor/cuda/cuda_gpu_executor.cc:980] successful NUMA node read from SysFS had negative value (-1), but there must be at least one NUMA node, so returning NUMA node zero\n",
      "2022-11-01 13:40:06.858700: I tensorflow/core/common_runtime/gpu/gpu_device.cc:1616] Created device /job:localhost/replica:0/task:0/device:GPU:0 with 21691 MB memory:  -> device: 0, name: NVIDIA GeForce RTX 3090 Ti, pci bus id: 0000:01:00.0, compute capability: 8.6\n"
     ]
    },
    {
     "name": "stdout",
     "output_type": "stream",
     "text": [
      "Found 21642 files belonging to 2 classes.\n",
      "Found 25000 files belonging to 2 classes.\n"
     ]
    }
   ],
   "source": [
    "from tensorflow import keras\n",
    "\n",
    "batch_size = 32\n",
    "\n",
    "train_ds = keras.utils.text_dataset_from_directory('aclImdb/train', batch_size=batch_size)\n",
    "val_ds = keras.utils.text_dataset_from_directory('aclImdb/val', batch_size=batch_size)\n",
    "test_ds = keras.utils.text_dataset_from_directory('aclImdb/test', batch_size=batch_size)"
   ]
  },
  {
   "cell_type": "code",
   "execution_count": 4,
   "metadata": {},
   "outputs": [],
   "source": [
    "text_only_train_ds = train_ds.map(lambda x, y: x)"
   ]
  },
  {
   "cell_type": "code",
   "execution_count": 5,
   "metadata": {},
   "outputs": [],
   "source": [
    "from tensorflow.keras import layers\n",
    "  \n",
    "max_length = 600 \n",
    "max_tokens = 20000 \n",
    "text_vectorization = layers.TextVectorization(\n",
    "    max_tokens=max_tokens,\n",
    "    output_mode=\"int\",\n",
    "    output_sequence_length=max_length,\n",
    ")\n",
    "text_vectorization.adapt(text_only_train_ds)\n",
    " \n",
    "int_train_ds = train_ds.map(\n",
    "    lambda x, y: (text_vectorization(x), y),\n",
    "    num_parallel_calls=4)\n",
    "int_val_ds = val_ds.map(\n",
    "    lambda x, y: (text_vectorization(x), y),\n",
    "    num_parallel_calls=4)\n",
    "int_test_ds = test_ds.map(\n",
    "    lambda x, y: (text_vectorization(x), y),\n",
    "    num_parallel_calls=4)"
   ]
  },
  {
   "cell_type": "code",
   "execution_count": 6,
   "metadata": {},
   "outputs": [],
   "source": [
    "import tensorflow as tf\n",
    "from tensorflow import keras\n",
    "\n",
    "class TransformerEncoder(keras.layers.Layer):\n",
    "    def __init__(self, num_heads, embed_dim, dense_dim, **kwargs) -> None:\n",
    "        super().__init__(**kwargs)\n",
    "        self.num_heads = num_heads\n",
    "        self.embed_dim = embed_dim\n",
    "        self.dense_dim = dense_dim\n",
    "        self.mha = keras.layers.MultiHeadAttention(num_heads=num_heads, key_dim=embed_dim)\n",
    "        self.dense_proj = keras.Sequential([\n",
    "            keras.layers.Dense(dense_dim, activation='relu'),\n",
    "            keras.layers.Dense(embed_dim)\n",
    "        ])\n",
    "        self.layernorm_1 = keras.layers.LayerNormalization()\n",
    "        self.layernorm_2 = keras.layers.LayerNormalization()\n",
    "\n",
    "    def call(self, inputs, mask=None):\n",
    "        if mask is not None:\n",
    "            mask = mask[:, tf.newaxis, :]\n",
    "        attention_output = self.mha(inputs, inputs, attention_mask=mask)\n",
    "        proj_input = self.layernorm_1(inputs + attention_output)\n",
    "        proj_out = self.dense_proj(proj_input)\n",
    "        return self.layernorm_2(proj_input + proj_out)\n",
    "    \n",
    "    def get_config(self):\n",
    "        config = super().get_config()\n",
    "        config.update({\n",
    "            \"num_heads\": self.num_heads,\n",
    "            \"embed_dim\": self.embed_dim,\n",
    "            \"dense_dim\": self.dense_dim\n",
    "        })\n",
    "        return config"
   ]
  },
  {
   "cell_type": "code",
   "execution_count": 10,
   "metadata": {},
   "outputs": [
    {
     "name": "stdout",
     "output_type": "stream",
     "text": [
      "Model: \"model_1\"\n",
      "_________________________________________________________________\n",
      " Layer (type)                Output Shape              Param #   \n",
      "=================================================================\n",
      " input_2 (InputLayer)        [(None, None)]            0         \n",
      "                                                                 \n",
      " embedding_1 (Embedding)     (None, None, 256)         5120000   \n",
      "                                                                 \n",
      " transformer_encoder_1 (Tran  (None, None, 256)        543776    \n",
      " sformerEncoder)                                                 \n",
      "                                                                 \n",
      " global_max_pooling1d_1 (Glo  (None, 256)              0         \n",
      " balMaxPooling1D)                                                \n",
      "                                                                 \n",
      " dropout_1 (Dropout)         (None, 256)               0         \n",
      "                                                                 \n",
      " dense_7 (Dense)             (None, 1)                 257       \n",
      "                                                                 \n",
      "=================================================================\n",
      "Total params: 5,664,033\n",
      "Trainable params: 5,664,033\n",
      "Non-trainable params: 0\n",
      "_________________________________________________________________\n"
     ]
    }
   ],
   "source": [
    "vocab_size = 20000 \n",
    "embed_dim = 256 \n",
    "num_heads = 2 \n",
    "dense_dim = 32 \n",
    "  \n",
    "inputs = keras.Input(shape=(None,), dtype=\"int64\")\n",
    "x = layers.Embedding(vocab_size, embed_dim)(inputs)\n",
    "x = TransformerEncoder(num_heads, embed_dim, dense_dim)(x)\n",
    "x = layers.GlobalMaxPooling1D()(x)\n",
    "x = layers.Dropout(0.5)(x)\n",
    "outputs = layers.Dense(1, activation=\"sigmoid\")(x)\n",
    "model = keras.Model(inputs, outputs)\n",
    "model.compile(optimizer=\"rmsprop\",\n",
    "              loss=\"binary_crossentropy\",\n",
    "              metrics=[\"accuracy\"])\n",
    "model.summary()"
   ]
  },
  {
   "cell_type": "code",
   "execution_count": 11,
   "metadata": {},
   "outputs": [
    {
     "name": "stdout",
     "output_type": "stream",
     "text": [
      "Epoch 1/20\n",
      "105/105 [==============================] - 9s 81ms/step - loss: 0.8025 - accuracy: 0.6155 - val_loss: 0.4605 - val_accuracy: 0.8127\n",
      "Epoch 2/20\n",
      "105/105 [==============================] - 8s 74ms/step - loss: 0.4349 - accuracy: 0.7942 - val_loss: 0.3899 - val_accuracy: 0.8224\n",
      "Epoch 3/20\n",
      "105/105 [==============================] - 8s 78ms/step - loss: 0.3330 - accuracy: 0.8574 - val_loss: 0.3848 - val_accuracy: 0.8281\n",
      "Epoch 4/20\n",
      "105/105 [==============================] - 8s 77ms/step - loss: 0.2602 - accuracy: 0.8919 - val_loss: 0.3672 - val_accuracy: 0.8381\n",
      "Epoch 5/20\n",
      "105/105 [==============================] - 8s 78ms/step - loss: 0.2001 - accuracy: 0.9202 - val_loss: 0.3660 - val_accuracy: 0.8442\n",
      "Epoch 6/20\n",
      "105/105 [==============================] - 8s 77ms/step - loss: 0.1399 - accuracy: 0.9467 - val_loss: 0.4027 - val_accuracy: 0.8315\n",
      "Epoch 7/20\n",
      "105/105 [==============================] - 8s 77ms/step - loss: 0.1157 - accuracy: 0.9559 - val_loss: 0.4032 - val_accuracy: 0.8445\n",
      "Epoch 8/20\n",
      "105/105 [==============================] - 8s 78ms/step - loss: 0.0768 - accuracy: 0.9723 - val_loss: 0.5160 - val_accuracy: 0.8130\n",
      "Epoch 9/20\n",
      "105/105 [==============================] - 8s 77ms/step - loss: 0.0536 - accuracy: 0.9800 - val_loss: 0.6690 - val_accuracy: 0.7972\n",
      "Epoch 10/20\n",
      "105/105 [==============================] - 8s 75ms/step - loss: 0.0353 - accuracy: 0.9866 - val_loss: 0.5383 - val_accuracy: 0.8235\n",
      "Epoch 11/20\n",
      "105/105 [==============================] - 8s 76ms/step - loss: 0.0220 - accuracy: 0.9923 - val_loss: 0.6221 - val_accuracy: 0.8183\n",
      "Epoch 12/20\n",
      "105/105 [==============================] - 8s 77ms/step - loss: 0.0145 - accuracy: 0.9952 - val_loss: 0.5694 - val_accuracy: 0.8410\n",
      "Epoch 13/20\n",
      "105/105 [==============================] - 8s 77ms/step - loss: 0.0082 - accuracy: 0.9973 - val_loss: 0.7765 - val_accuracy: 0.8109\n",
      "Epoch 14/20\n",
      "105/105 [==============================] - 8s 81ms/step - loss: 0.0077 - accuracy: 0.9970 - val_loss: 0.6388 - val_accuracy: 0.8328\n",
      "Epoch 15/20\n",
      "105/105 [==============================] - 8s 76ms/step - loss: 0.0018 - accuracy: 0.9997 - val_loss: 0.7795 - val_accuracy: 0.8308\n",
      "Epoch 16/20\n",
      "105/105 [==============================] - 8s 76ms/step - loss: 0.0052 - accuracy: 0.9988 - val_loss: 0.7452 - val_accuracy: 0.8348\n",
      "Epoch 17/20\n",
      "105/105 [==============================] - 8s 78ms/step - loss: 0.0024 - accuracy: 0.9991 - val_loss: 1.0011 - val_accuracy: 0.8038\n",
      "Epoch 18/20\n",
      "105/105 [==============================] - 8s 78ms/step - loss: 0.0033 - accuracy: 0.9988 - val_loss: 0.8738 - val_accuracy: 0.8234\n",
      "Epoch 19/20\n",
      "105/105 [==============================] - 8s 78ms/step - loss: 0.0025 - accuracy: 0.9988 - val_loss: 0.9264 - val_accuracy: 0.8233\n",
      "Epoch 20/20\n",
      "105/105 [==============================] - 8s 80ms/step - loss: 0.0018 - accuracy: 0.9997 - val_loss: 0.9676 - val_accuracy: 0.8278\n",
      "782/782 [==============================] - 8s 10ms/step - loss: 0.3781 - accuracy: 0.8368\n",
      "Test acc: 0.837\n"
     ]
    }
   ],
   "source": [
    "callbacks = [\n",
    "    keras.callbacks.ModelCheckpoint(\"transformer_encoder.keras\",\n",
    "                                    save_best_only=True)\n",
    "]\n",
    "model.fit(int_train_ds, validation_data=int_val_ds, epochs=20,\n",
    "          callbacks=callbacks)\n",
    "model = keras.models.load_model(\n",
    "    \"transformer_encoder.keras\",\n",
    "    custom_objects={\"TransformerEncoder\": TransformerEncoder})\n",
    "print(f\"Test acc: {model.evaluate(int_test_ds)[1]:.3f}\")"
   ]
  },
  {
   "cell_type": "code",
   "execution_count": 18,
   "metadata": {},
   "outputs": [],
   "source": [
    "class PositionalEmbedding(keras.layers.Layer):\n",
    "    def __init__(self, sequence_length, input_dim, output_dim, **kwargs) -> None:\n",
    "        super().__init__(**kwargs)\n",
    "        self.sequence_length = sequence_length\n",
    "        self.input_dim = input_dim\n",
    "        self.output_dim = output_dim\n",
    "        self.token_embedding = keras.layers.Embedding(input_dim, output_dim)\n",
    "        self.position_embedding = keras.layers.Embedding(sequence_length, output_dim)\n",
    "\n",
    "    def call(self, inputs):\n",
    "        embedded_tokens = self.token_embedding(inputs)\n",
    "        positions = tf.range(start=0, limit=inputs.shape[-1], delta=1)\n",
    "        embedded_positions = self.position_embedding(positions)\n",
    "        return embedded_tokens + embedded_positions\n",
    "    \n",
    "    def compute_mask(seflf, inputs, mask=None):\n",
    "        return tf.math.not_equal(inputs, 0)\n",
    "\n",
    "    def get_config(self):\n",
    "        config = super().get_config()\n",
    "        config.update({\n",
    "            'sequence_length': self.sequence_length,\n",
    "            'input_dim': self.input_dim,\n",
    "            'output_dim': self.output_dim\n",
    "        })\n",
    "        return config"
   ]
  },
  {
   "cell_type": "code",
   "execution_count": 19,
   "metadata": {},
   "outputs": [
    {
     "name": "stdout",
     "output_type": "stream",
     "text": [
      "Model: \"model_2\"\n",
      "_________________________________________________________________\n",
      " Layer (type)                Output Shape              Param #   \n",
      "=================================================================\n",
      " input_5 (InputLayer)        [(None, None)]            0         \n",
      "                                                                 \n",
      " positional_embedding_2 (Pos  (None, None, 256)        5273600   \n",
      " itionalEmbedding)                                               \n",
      "                                                                 \n",
      " transformer_encoder_3 (Tran  (None, None, 256)        543776    \n",
      " sformerEncoder)                                                 \n",
      "                                                                 \n",
      " global_max_pooling1d_2 (Glo  (None, 256)              0         \n",
      " balMaxPooling1D)                                                \n",
      "                                                                 \n",
      " dropout_2 (Dropout)         (None, 256)               0         \n",
      "                                                                 \n",
      " dense_14 (Dense)            (None, 1)                 257       \n",
      "                                                                 \n",
      "=================================================================\n",
      "Total params: 5,817,633\n",
      "Trainable params: 5,817,633\n",
      "Non-trainable params: 0\n",
      "_________________________________________________________________\n",
      "Epoch 1/20\n",
      "105/105 [==============================] - 10s 86ms/step - loss: 0.9396 - accuracy: 0.5473 - val_loss: 0.5174 - val_accuracy: 0.7777\n",
      "Epoch 2/20\n",
      "105/105 [==============================] - 9s 91ms/step - loss: 0.4472 - accuracy: 0.7954 - val_loss: 0.3937 - val_accuracy: 0.8357\n",
      "Epoch 3/20\n",
      "105/105 [==============================] - 10s 93ms/step - loss: 0.2283 - accuracy: 0.9122 - val_loss: 0.3882 - val_accuracy: 0.8505\n",
      "Epoch 4/20\n",
      "105/105 [==============================] - 9s 91ms/step - loss: 0.1445 - accuracy: 0.9527 - val_loss: 0.4404 - val_accuracy: 0.8423\n",
      "Epoch 5/20\n",
      "105/105 [==============================] - 9s 90ms/step - loss: 0.0693 - accuracy: 0.9789 - val_loss: 0.5561 - val_accuracy: 0.8478\n",
      "Epoch 6/20\n",
      "105/105 [==============================] - 10s 92ms/step - loss: 0.0431 - accuracy: 0.9863 - val_loss: 0.7937 - val_accuracy: 0.8481\n",
      "Epoch 7/20\n",
      "105/105 [==============================] - 10s 92ms/step - loss: 0.0135 - accuracy: 0.9967 - val_loss: 1.1039 - val_accuracy: 0.8427\n",
      "Epoch 8/20\n",
      "105/105 [==============================] - 10s 91ms/step - loss: 0.0122 - accuracy: 0.9985 - val_loss: 1.1811 - val_accuracy: 0.8474\n",
      "Epoch 9/20\n",
      "105/105 [==============================] - 9s 88ms/step - loss: 3.5138e-05 - accuracy: 1.0000 - val_loss: 1.4107 - val_accuracy: 0.8483\n",
      "Epoch 10/20\n",
      "105/105 [==============================] - 9s 88ms/step - loss: 0.0174 - accuracy: 0.9979 - val_loss: 1.3979 - val_accuracy: 0.8463\n",
      "Epoch 11/20\n",
      "105/105 [==============================] - 9s 87ms/step - loss: 1.5871e-06 - accuracy: 1.0000 - val_loss: 1.5510 - val_accuracy: 0.8456\n",
      "Epoch 12/20\n",
      "105/105 [==============================] - 9s 90ms/step - loss: 2.2371e-07 - accuracy: 1.0000 - val_loss: 1.9838 - val_accuracy: 0.8452\n",
      "Epoch 13/20\n",
      "105/105 [==============================] - 9s 90ms/step - loss: 1.6213e-08 - accuracy: 1.0000 - val_loss: 2.1722 - val_accuracy: 0.8454\n",
      "Epoch 14/20\n",
      "105/105 [==============================] - 9s 84ms/step - loss: 7.6669e-09 - accuracy: 1.0000 - val_loss: 2.2625 - val_accuracy: 0.8458\n",
      "Epoch 15/20\n",
      "105/105 [==============================] - 9s 91ms/step - loss: 6.0398e-09 - accuracy: 1.0000 - val_loss: 2.3582 - val_accuracy: 0.8465\n",
      "Epoch 16/20\n",
      "105/105 [==============================] - 10s 92ms/step - loss: 3.0382e-09 - accuracy: 1.0000 - val_loss: 2.3967 - val_accuracy: 0.8461\n",
      "Epoch 17/20\n",
      "105/105 [==============================] - 10s 92ms/step - loss: 2.0495e-09 - accuracy: 1.0000 - val_loss: 2.4092 - val_accuracy: 0.8469\n",
      "Epoch 18/20\n",
      "105/105 [==============================] - 10s 91ms/step - loss: 2.7131e-09 - accuracy: 1.0000 - val_loss: 2.4050 - val_accuracy: 0.8457\n",
      "Epoch 19/20\n",
      "105/105 [==============================] - 10s 91ms/step - loss: 2.0903e-09 - accuracy: 1.0000 - val_loss: 2.4643 - val_accuracy: 0.8468\n",
      "Epoch 20/20\n",
      "105/105 [==============================] - 9s 91ms/step - loss: 1.5132e-09 - accuracy: 1.0000 - val_loss: 2.4812 - val_accuracy: 0.8469\n",
      "782/782 [==============================] - 9s 12ms/step - loss: 0.3978 - accuracy: 0.8417\n",
      "Test acc: 0.842\n"
     ]
    }
   ],
   "source": [
    "vocab_size = 20000 \n",
    "sequence_length = 600\n",
    "embed_dim = 256 \n",
    "num_heads = 2 \n",
    "dense_dim = 32 \n",
    "  \n",
    "inputs = keras.Input(shape=(None,), dtype=\"int64\")\n",
    "x = PositionalEmbedding(sequence_length, vocab_size, embed_dim)(inputs) \n",
    "x = TransformerEncoder(num_heads, embed_dim, dense_dim)(x)\n",
    "x = layers.GlobalMaxPooling1D()(x)\n",
    "x = layers.Dropout(0.5)(x)\n",
    "outputs = layers.Dense(1, activation=\"sigmoid\")(x)\n",
    "model = keras.Model(inputs, outputs)\n",
    "model.compile(optimizer=\"rmsprop\",\n",
    "              loss=\"binary_crossentropy\",\n",
    "              metrics=[\"accuracy\"])\n",
    "\n",
    "model.summary()\n",
    "\n",
    "callbacks = [\n",
    "    keras.callbacks.ModelCheckpoint(\"full_transformer_encoder.keras\",\n",
    "                                    save_best_only=True)\n",
    "] \n",
    "model.fit(int_train_ds, validation_data=int_val_ds, epochs=20, callbacks=callbacks)\n",
    "model = keras.models.load_model(\n",
    "    \"full_transformer_encoder.keras\",\n",
    "    custom_objects={\"TransformerEncoder\": TransformerEncoder,\n",
    "                    \"PositionalEmbedding\": PositionalEmbedding}) \n",
    "print(f\"Test acc: {model.evaluate(int_test_ds)[1]:.3f}\")"
   ]
  },
  {
   "cell_type": "code",
   "execution_count": null,
   "metadata": {},
   "outputs": [],
   "source": []
  }
 ],
 "metadata": {
  "kernelspec": {
   "display_name": "Python 3.9.13 ('tf')",
   "language": "python",
   "name": "python3"
  },
  "language_info": {
   "codemirror_mode": {
    "name": "ipython",
    "version": 3
   },
   "file_extension": ".py",
   "mimetype": "text/x-python",
   "name": "python",
   "nbconvert_exporter": "python",
   "pygments_lexer": "ipython3",
   "version": "3.9.13"
  },
  "orig_nbformat": 4,
  "vscode": {
   "interpreter": {
    "hash": "3c4321ab1b242d2e066d5c4b9cff33f957cb21b09244bbe06e7a100233295ac7"
   }
  }
 },
 "nbformat": 4,
 "nbformat_minor": 2
}
