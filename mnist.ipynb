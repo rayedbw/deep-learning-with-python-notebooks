{
 "cells": [
  {
   "cell_type": "code",
   "execution_count": 17,
   "metadata": {},
   "outputs": [
    {
     "name": "stderr",
     "output_type": "stream",
     "text": [
      "2022-10-30 04:03:49.808325: I tensorflow/core/platform/cpu_feature_guard.cc:193] This TensorFlow binary is optimized with oneAPI Deep Neural Network Library (oneDNN) to use the following CPU instructions in performance-critical operations:  AVX2 AVX_VNNI FMA\n",
      "To enable them in other operations, rebuild TensorFlow with the appropriate compiler flags.\n",
      "2022-10-30 04:03:49.870094: I tensorflow/core/util/util.cc:169] oneDNN custom operations are on. You may see slightly different numerical results due to floating-point round-off errors from different computation orders. To turn them off, set the environment variable `TF_ENABLE_ONEDNN_OPTS=0`.\n",
      "2022-10-30 04:03:49.884225: E tensorflow/stream_executor/cuda/cuda_blas.cc:2981] Unable to register cuBLAS factory: Attempting to register factory for plugin cuBLAS when one has already been registered\n",
      "2022-10-30 04:03:50.141841: W tensorflow/stream_executor/platform/default/dso_loader.cc:64] Could not load dynamic library 'libnvinfer.so.7'; dlerror: libnvinfer.so.7: cannot open shared object file: No such file or directory; LD_LIBRARY_PATH: :/home/rayed/anaconda3/envs/tf/lib/:/home/rayed/anaconda3/envs/tf/lib/\n",
      "2022-10-30 04:03:50.141875: W tensorflow/stream_executor/platform/default/dso_loader.cc:64] Could not load dynamic library 'libnvinfer_plugin.so.7'; dlerror: libnvinfer_plugin.so.7: cannot open shared object file: No such file or directory; LD_LIBRARY_PATH: :/home/rayed/anaconda3/envs/tf/lib/:/home/rayed/anaconda3/envs/tf/lib/\n",
      "2022-10-30 04:03:50.141878: W tensorflow/compiler/tf2tensorrt/utils/py_utils.cc:38] TF-TRT Warning: Cannot dlopen some TensorRT libraries. If you would like to use Nvidia GPU with TensorRT, please make sure the missing libraries mentioned above are installed properly.\n"
     ]
    }
   ],
   "source": [
    "from tensorflow.keras.datasets import mnist\n",
    "(train_images, train_labels), (test_images, test_labels) = mnist.load_data()"
   ]
  },
  {
   "cell_type": "code",
   "execution_count": 18,
   "metadata": {},
   "outputs": [
    {
     "data": {
      "text/plain": [
       "(numpy.ndarray, (60000, 28, 28), (10000, 28, 28))"
      ]
     },
     "execution_count": 18,
     "metadata": {},
     "output_type": "execute_result"
    }
   ],
   "source": [
    "type(train_images), train_images.shape, test_images.shape"
   ]
  },
  {
   "cell_type": "code",
   "execution_count": 21,
   "metadata": {},
   "outputs": [
    {
     "name": "stderr",
     "output_type": "stream",
     "text": [
      "2022-10-30 04:04:09.343494: I tensorflow/stream_executor/cuda/cuda_gpu_executor.cc:980] successful NUMA node read from SysFS had negative value (-1), but there must be at least one NUMA node, so returning NUMA node zero\n",
      "2022-10-30 04:04:09.346265: I tensorflow/stream_executor/cuda/cuda_gpu_executor.cc:980] successful NUMA node read from SysFS had negative value (-1), but there must be at least one NUMA node, so returning NUMA node zero\n",
      "2022-10-30 04:04:09.346347: I tensorflow/stream_executor/cuda/cuda_gpu_executor.cc:980] successful NUMA node read from SysFS had negative value (-1), but there must be at least one NUMA node, so returning NUMA node zero\n",
      "2022-10-30 04:04:09.346994: I tensorflow/core/platform/cpu_feature_guard.cc:193] This TensorFlow binary is optimized with oneAPI Deep Neural Network Library (oneDNN) to use the following CPU instructions in performance-critical operations:  AVX2 AVX_VNNI FMA\n",
      "To enable them in other operations, rebuild TensorFlow with the appropriate compiler flags.\n",
      "2022-10-30 04:04:09.347851: I tensorflow/stream_executor/cuda/cuda_gpu_executor.cc:980] successful NUMA node read from SysFS had negative value (-1), but there must be at least one NUMA node, so returning NUMA node zero\n",
      "2022-10-30 04:04:09.347998: I tensorflow/stream_executor/cuda/cuda_gpu_executor.cc:980] successful NUMA node read from SysFS had negative value (-1), but there must be at least one NUMA node, so returning NUMA node zero\n",
      "2022-10-30 04:04:09.348107: I tensorflow/stream_executor/cuda/cuda_gpu_executor.cc:980] successful NUMA node read from SysFS had negative value (-1), but there must be at least one NUMA node, so returning NUMA node zero\n",
      "2022-10-30 04:04:09.623160: I tensorflow/stream_executor/cuda/cuda_gpu_executor.cc:980] successful NUMA node read from SysFS had negative value (-1), but there must be at least one NUMA node, so returning NUMA node zero\n",
      "2022-10-30 04:04:09.623253: I tensorflow/stream_executor/cuda/cuda_gpu_executor.cc:980] successful NUMA node read from SysFS had negative value (-1), but there must be at least one NUMA node, so returning NUMA node zero\n",
      "2022-10-30 04:04:09.623325: I tensorflow/stream_executor/cuda/cuda_gpu_executor.cc:980] successful NUMA node read from SysFS had negative value (-1), but there must be at least one NUMA node, so returning NUMA node zero\n",
      "2022-10-30 04:04:09.623375: I tensorflow/core/common_runtime/gpu/gpu_device.cc:1616] Created device /job:localhost/replica:0/task:0/device:GPU:0 with 230 MB memory:  -> device: 0, name: NVIDIA GeForce RTX 3090 Ti, pci bus id: 0000:01:00.0, compute capability: 8.6\n"
     ]
    }
   ],
   "source": [
    "import tensorflow as tf\n",
    "import tensorflow.keras as keras\n",
    "from tensorflow.keras import layers\n",
    "model = keras.Sequential([\n",
    "    layers.Dense(512, activation=\"relu\"),\n",
    "    layers.Dense(10, activation=\"softmax\")\n",
    "])"
   ]
  },
  {
   "cell_type": "code",
   "execution_count": 22,
   "metadata": {},
   "outputs": [],
   "source": [
    "model.compile(optimizer=\"rmsprop\",\n",
    "              loss=\"sparse_categorical_crossentropy\",\n",
    "              metrics=[\"accuracy\"])"
   ]
  },
  {
   "cell_type": "code",
   "execution_count": 23,
   "metadata": {},
   "outputs": [],
   "source": [
    "train_images = train_images.reshape((60000, 28 * 28))\n",
    "train_images = train_images.astype(\"float32\") / 255 \n",
    "test_images = test_images.reshape((10000, 28 * 28))\n",
    "test_images = test_images.astype(\"float32\") / 255"
   ]
  },
  {
   "cell_type": "code",
   "execution_count": 6,
   "metadata": {},
   "outputs": [
    {
     "name": "stdout",
     "output_type": "stream",
     "text": [
      "Epoch 1/5\n",
      " 89/469 [====>.........................] - ETA: 0s - loss: 0.5066 - accuracy: 0.8550"
     ]
    },
    {
     "name": "stderr",
     "output_type": "stream",
     "text": [
      "2022-10-27 19:55:46.736829: I tensorflow/stream_executor/cuda/cuda_blas.cc:1614] TensorFloat-32 will be used for the matrix multiplication. This will only be logged once.\n"
     ]
    },
    {
     "name": "stdout",
     "output_type": "stream",
     "text": [
      "469/469 [==============================] - 2s 3ms/step - loss: 0.2556 - accuracy: 0.9258\n",
      "Epoch 2/5\n",
      "469/469 [==============================] - 1s 3ms/step - loss: 0.1027 - accuracy: 0.9697\n",
      "Epoch 3/5\n",
      "469/469 [==============================] - 1s 3ms/step - loss: 0.0683 - accuracy: 0.9797\n",
      "Epoch 4/5\n",
      "469/469 [==============================] - 1s 3ms/step - loss: 0.0494 - accuracy: 0.9852\n",
      "Epoch 5/5\n",
      "469/469 [==============================] - 2s 3ms/step - loss: 0.0370 - accuracy: 0.9887\n"
     ]
    },
    {
     "data": {
      "text/plain": [
       "<keras.callbacks.History at 0x7f0173cf1fa0>"
      ]
     },
     "execution_count": 6,
     "metadata": {},
     "output_type": "execute_result"
    }
   ],
   "source": [
    "model.fit(train_images, train_labels, epochs=5, batch_size=128)"
   ]
  },
  {
   "cell_type": "code",
   "execution_count": 7,
   "metadata": {},
   "outputs": [
    {
     "name": "stdout",
     "output_type": "stream",
     "text": [
      "1/1 [==============================] - 0s 32ms/step\n"
     ]
    },
    {
     "data": {
      "text/plain": [
       "array([2.8833285e-09, 2.1335137e-11, 2.2006921e-06, 1.9093590e-05,\n",
       "       1.3666803e-12, 4.7499618e-09, 1.4611293e-14, 9.9997854e-01,\n",
       "       1.8490834e-08, 1.4197866e-07], dtype=float32)"
      ]
     },
     "execution_count": 7,
     "metadata": {},
     "output_type": "execute_result"
    }
   ],
   "source": [
    "test_digits = test_images[:10]\n",
    "predictions = model.predict(test_digits)\n",
    "predictions[0]"
   ]
  },
  {
   "cell_type": "code",
   "execution_count": 9,
   "metadata": {},
   "outputs": [
    {
     "data": {
      "text/plain": [
       "7"
      ]
     },
     "execution_count": 9,
     "metadata": {},
     "output_type": "execute_result"
    }
   ],
   "source": [
    "predictions[0].argmax()"
   ]
  },
  {
   "cell_type": "code",
   "execution_count": 10,
   "metadata": {},
   "outputs": [
    {
     "data": {
      "text/plain": [
       "7"
      ]
     },
     "execution_count": 10,
     "metadata": {},
     "output_type": "execute_result"
    }
   ],
   "source": [
    "test_labels[0]"
   ]
  },
  {
   "cell_type": "code",
   "execution_count": 11,
   "metadata": {},
   "outputs": [
    {
     "name": "stdout",
     "output_type": "stream",
     "text": [
      "313/313 [==============================] - 0s 1ms/step - loss: 0.0630 - accuracy: 0.9826\n"
     ]
    }
   ],
   "source": [
    "test_loss, test_acc = model.evaluate(test_images, test_labels)"
   ]
  },
  {
   "cell_type": "code",
   "execution_count": 12,
   "metadata": {},
   "outputs": [
    {
     "data": {
      "text/plain": [
       "(0.06298802047967911, 0.9825999736785889)"
      ]
     },
     "execution_count": 12,
     "metadata": {},
     "output_type": "execute_result"
    }
   ],
   "source": [
    "test_loss, test_acc"
   ]
  },
  {
   "cell_type": "code",
   "execution_count": 13,
   "metadata": {},
   "outputs": [
    {
     "data": {
      "text/plain": [
       "2"
      ]
     },
     "execution_count": 13,
     "metadata": {},
     "output_type": "execute_result"
    }
   ],
   "source": [
    "train_images.ndim"
   ]
  },
  {
   "cell_type": "code",
   "execution_count": 14,
   "metadata": {},
   "outputs": [
    {
     "data": {
      "text/plain": [
       "dtype('float32')"
      ]
     },
     "execution_count": 14,
     "metadata": {},
     "output_type": "execute_result"
    }
   ],
   "source": [
    "train_images.dtype"
   ]
  },
  {
   "cell_type": "code",
   "execution_count": 16,
   "metadata": {},
   "outputs": [],
   "source": [
    "(train_images, train_labels), (test_images, test_labels) = mnist.load_data()"
   ]
  },
  {
   "cell_type": "code",
   "execution_count": 17,
   "metadata": {},
   "outputs": [
    {
     "data": {
      "image/png": "[encoded data removed]",
      "text/plain": [
       "<Figure size 640x480 with 1 Axes>"
      ]
     },
     "metadata": {},
     "output_type": "display_data"
    }
   ],
   "source": [
    "import matplotlib.pyplot as plt\n",
    "digit = train_images[4]\n",
    "plt.imshow(digit, cmap=plt.cm.binary)\n",
    "plt.show()"
   ]
  },
  {
   "cell_type": "code",
   "execution_count": 35,
   "metadata": {},
   "outputs": [],
   "source": [
    "import numpy as np\n",
    "x = np.zeros((64, 3, 32, 10))\n",
    "y = np.ones((32, 10))\n",
    "z = np.maximum(x, y)"
   ]
  },
  {
   "cell_type": "code",
   "execution_count": 36,
   "metadata": {},
   "outputs": [
    {
     "data": {
      "text/plain": [
       "(64, 3, 32, 10)"
      ]
     },
     "execution_count": 36,
     "metadata": {},
     "output_type": "execute_result"
    }
   ],
   "source": [
    "z.shape"
   ]
  },
  {
   "cell_type": "code",
   "execution_count": 42,
   "metadata": {},
   "outputs": [
    {
     "data": {
      "text/plain": [
       "320.0"
      ]
     },
     "execution_count": 42,
     "metadata": {},
     "output_type": "execute_result"
    }
   ],
   "source": [
    "y.sum()"
   ]
  },
  {
   "cell_type": "code",
   "execution_count": 43,
   "metadata": {},
   "outputs": [
    {
     "data": {
      "text/plain": [
       "61440.0"
      ]
     },
     "execution_count": 43,
     "metadata": {},
     "output_type": "execute_result"
    }
   ],
   "source": [
    "z.sum()"
   ]
  },
  {
   "cell_type": "code",
   "execution_count": 44,
   "metadata": {},
   "outputs": [
    {
     "data": {
      "text/plain": [
       "61440"
      ]
     },
     "execution_count": 44,
     "metadata": {},
     "output_type": "execute_result"
    }
   ],
   "source": [
    "64*3*32*10\n"
   ]
  },
  {
   "cell_type": "code",
   "execution_count": 41,
   "metadata": {},
   "outputs": [
    {
     "data": {
      "text/plain": [
       "61440"
      ]
     },
     "execution_count": 41,
     "metadata": {},
     "output_type": "execute_result"
    }
   ],
   "source": [
    "(z[:,:] == y).sum()"
   ]
  },
  {
   "cell_type": "code",
   "execution_count": 47,
   "metadata": {},
   "outputs": [
    {
     "data": {
      "text/plain": [
       "7.077495668950695"
      ]
     },
     "execution_count": 47,
     "metadata": {},
     "output_type": "execute_result"
    }
   ],
   "source": [
    "x = np.random.random((32,))\n",
    "y = np.random.random((32,))\n",
    "z = np.dot(x, y)\n",
    "z"
   ]
  },
  {
   "cell_type": "code",
   "execution_count": 58,
   "metadata": {},
   "outputs": [
    {
     "data": {
      "text/plain": [
       "((4, 5), 4)"
      ]
     },
     "execution_count": 58,
     "metadata": {},
     "output_type": "execute_result"
    }
   ],
   "source": [
    "c = np.random.randn(4, 5)\n",
    "c.shape, len(c)"
   ]
  },
  {
   "cell_type": "code",
   "execution_count": 50,
   "metadata": {},
   "outputs": [
    {
     "data": {
      "text/plain": [
       "1"
      ]
     },
     "execution_count": 50,
     "metadata": {},
     "output_type": "execute_result"
    }
   ],
   "source": [
    "len(x.shape)"
   ]
  },
  {
   "cell_type": "code",
   "execution_count": 59,
   "metadata": {},
   "outputs": [
    {
     "data": {
      "text/plain": [
       "array([ 0.29210264, -0.88823514, -4.63943485])"
      ]
     },
     "execution_count": 59,
     "metadata": {},
     "output_type": "execute_result"
    }
   ],
   "source": [
    "def naive_matrix_vector_dot(x, y):\n",
    "    assert x.ndim == 2\n",
    "    assert y.ndim == 1\n",
    "    assert x.shape[1] == y.shape[0]\n",
    "    z = np.zeros(x.shape[0])\n",
    "    for i in range(x.shape[0]):\n",
    "        for j in range(x.shape[1]):\n",
    "            z[i] += x[i, j] * y[j] \n",
    "    return z\n",
    "\n",
    "naive_matrix_vector_dot(np.random.randn(3, 5), np.random.randn(5))"
   ]
  },
  {
   "cell_type": "code",
   "execution_count": 60,
   "metadata": {},
   "outputs": [
    {
     "data": {
      "text/plain": [
       "<tf.Tensor: shape=(), dtype=float32, numpy=2.0>"
      ]
     },
     "execution_count": 60,
     "metadata": {},
     "output_type": "execute_result"
    }
   ],
   "source": [
    "import tensorflow as tf\n",
    "x = tf.Variable(0.)\n",
    "with tf.GradientTape() as tape:\n",
    "    y = 2 * x + 3\n",
    "grad_of_y_wrt_x = tape.gradient(y, x)\n",
    "grad_of_y_wrt_x"
   ]
  },
  {
   "cell_type": "code",
   "execution_count": 61,
   "metadata": {},
   "outputs": [
    {
     "data": {
      "text/plain": [
       "<tf.Tensor: shape=(2, 4), dtype=float32, numpy=\n",
       "array([[0.78794503, 0.70237803, 0.95670867, 0.45256686],\n",
       "       [0.6015717 , 0.4640242 , 0.5506128 , 0.05050397]], dtype=float32)>"
      ]
     },
     "execution_count": 61,
     "metadata": {},
     "output_type": "execute_result"
    }
   ],
   "source": [
    "tf.random.uniform((2,4))"
   ]
  },
  {
   "cell_type": "code",
   "execution_count": 63,
   "metadata": {},
   "outputs": [
    {
     "data": {
      "text/plain": [
       "[21, 3]"
      ]
     },
     "execution_count": 63,
     "metadata": {},
     "output_type": "execute_result"
    }
   ],
   "source": [
    "a = [3,4,5,21,3]\n",
    "a[3:100]"
   ]
  },
  {
   "cell_type": "code",
   "execution_count": 65,
   "metadata": {},
   "outputs": [],
   "source": [
    "x = tf.ones(2,2)"
   ]
  },
  {
   "cell_type": "code",
   "execution_count": 66,
   "metadata": {},
   "outputs": [
    {
     "ename": "TypeError",
     "evalue": "'tensorflow.python.framework.ops.EagerTensor' object does not support item assignment",
     "output_type": "error",
     "traceback": [
      "\u001b[0;31m---------------------------------------------------------------------------\u001b[0m",
      "\u001b[0;31mTypeError\u001b[0m                                 Traceback (most recent call last)",
      "Cell \u001b[0;32mIn [66], line 1\u001b[0m\n\u001b[0;32m----> 1\u001b[0m x[\u001b[39m0\u001b[39;49m,\u001b[39m0\u001b[39;49m] \u001b[39m=\u001b[39m \u001b[39m1\u001b[39m\n",
      "\u001b[0;31mTypeError\u001b[0m: 'tensorflow.python.framework.ops.EagerTensor' object does not support item assignment"
     ]
    }
   ],
   "source": [
    "x[0,0] = 1"
   ]
  },
  {
   "cell_type": "code",
   "execution_count": 71,
   "metadata": {},
   "outputs": [
    {
     "data": {
      "text/plain": [
       "TensorShape([3, 4, 12])"
      ]
     },
     "execution_count": 71,
     "metadata": {},
     "output_type": "execute_result"
    }
   ],
   "source": [
    "tf.ones((3,4,12)).shape"
   ]
  },
  {
   "cell_type": "code",
   "execution_count": 75,
   "metadata": {},
   "outputs": [],
   "source": [
    "v = tf.Variable(initial_value=tf.random.normal(shape=[3,4]))\n",
    "# v = v.assign_add(tf.ones(shape=[3,4]))"
   ]
  },
  {
   "cell_type": "code",
   "execution_count": 76,
   "metadata": {},
   "outputs": [
    {
     "data": {
      "text/plain": [
       "<tf.Variable 'Variable:0' shape=(3, 4) dtype=float32, numpy=\n",
       "array([[ 0.97344875, -1.7134778 ,  0.11006825, -0.6784401 ],\n",
       "       [-1.6194805 , -1.2053598 ,  1.6149752 , -1.2239372 ],\n",
       "       [ 1.1877862 , -0.35222548,  0.0449614 , -1.3222901 ]],\n",
       "      dtype=float32)>"
      ]
     },
     "execution_count": 76,
     "metadata": {},
     "output_type": "execute_result"
    }
   ],
   "source": [
    "v"
   ]
  },
  {
   "cell_type": "code",
   "execution_count": 77,
   "metadata": {},
   "outputs": [
    {
     "data": {
      "text/plain": [
       "<tf.Tensor: shape=(3, 4), dtype=float32, numpy=\n",
       "array([[ 2.9203463 , -5.1404333 ,  0.33020473, -2.0353203 ],\n",
       "       [-4.8584414 , -3.6160793 ,  4.844926  , -3.6718116 ],\n",
       "       [ 3.5633588 , -1.0566764 ,  0.13488421, -3.9668703 ]],\n",
       "      dtype=float32)>"
      ]
     },
     "execution_count": 77,
     "metadata": {},
     "output_type": "execute_result"
    }
   ],
   "source": [
    "z = v * 3\n",
    "z"
   ]
  },
  {
   "cell_type": "code",
   "execution_count": 78,
   "metadata": {},
   "outputs": [
    {
     "ename": "AttributeError",
     "evalue": "__enter__",
     "output_type": "error",
     "traceback": [
      "\u001b[0;31m---------------------------------------------------------------------------\u001b[0m",
      "\u001b[0;31mAttributeError\u001b[0m                            Traceback (most recent call last)",
      "Cell \u001b[0;32mIn [78], line 1\u001b[0m\n\u001b[0;32m----> 1\u001b[0m \u001b[39mwith\u001b[39;00m tf\u001b[39m.\u001b[39mGradientTape \u001b[39mas\u001b[39;00m tape:\n\u001b[1;32m      2\u001b[0m     r \u001b[39m=\u001b[39m z \u001b[39m+\u001b[39m v\n\u001b[1;32m      3\u001b[0m tape\u001b[39m.\u001b[39mgradient(r, v)\n",
      "\u001b[0;31mAttributeError\u001b[0m: __enter__"
     ]
    }
   ],
   "source": [
    "with tf.GradientTape as tape:\n",
    "    r = z + v\n",
    "tape.gradient(r, v)"
   ]
  },
  {
   "cell_type": "code",
   "execution_count": 83,
   "metadata": {},
   "outputs": [
    {
     "name": "stdout",
     "output_type": "stream",
     "text": [
      "tf.Tensor(6.0, shape=(), dtype=float32)\n"
     ]
    }
   ],
   "source": [
    "x = tf.constant(3.0)\n",
    "with tf.GradientTape() as g:\n",
    "  g.watch(x)\n",
    "  y = x * x\n",
    "dy_dx = g.gradient(y, x)\n",
    "print(dy_dx)"
   ]
  },
  {
   "cell_type": "code",
   "execution_count": 84,
   "metadata": {},
   "outputs": [
    {
     "data": {
      "text/plain": [
       "<tf.Variable 'Variable:0' shape=(3, 1) dtype=float32, numpy=\n",
       "array([[ 0.12000429],\n",
       "       [ 0.8660266 ],\n",
       "       [-0.25451735]], dtype=float32)>"
      ]
     },
     "execution_count": 84,
     "metadata": {},
     "output_type": "execute_result"
    }
   ],
   "source": [
    "v = tf.Variable(initial_value=tf.random.normal(shape=(3, 1)))\n",
    "v"
   ]
  },
  {
   "cell_type": "code",
   "execution_count": 85,
   "metadata": {},
   "outputs": [
    {
     "data": {
      "text/plain": [
       "<tf.Variable 'Variable:0' shape=(3, 1) dtype=float32, numpy=\n",
       "array([[1.],\n",
       "       [1.],\n",
       "       [1.]], dtype=float32)>"
      ]
     },
     "execution_count": 85,
     "metadata": {},
     "output_type": "execute_result"
    }
   ],
   "source": [
    "v.assign(tf.ones((3, 1)))\n",
    "v"
   ]
  },
  {
   "cell_type": "code",
   "execution_count": 86,
   "metadata": {},
   "outputs": [
    {
     "data": {
      "text/plain": [
       "<tf.Variable 'UnreadVariable' shape=(3, 1) dtype=float32, numpy=\n",
       "array([[2.],\n",
       "       [2.],\n",
       "       [2.]], dtype=float32)>"
      ]
     },
     "execution_count": 86,
     "metadata": {},
     "output_type": "execute_result"
    }
   ],
   "source": [
    "v.assign_add(tf.ones((3, 1)))"
   ]
  },
  {
   "cell_type": "code",
   "execution_count": 87,
   "metadata": {},
   "outputs": [
    {
     "data": {
      "text/plain": [
       "<tf.Variable 'Variable:0' shape=(3, 1) dtype=float32, numpy=\n",
       "array([[2.],\n",
       "       [2.],\n",
       "       [2.]], dtype=float32)>"
      ]
     },
     "execution_count": 87,
     "metadata": {},
     "output_type": "execute_result"
    }
   ],
   "source": [
    "v"
   ]
  },
  {
   "cell_type": "code",
   "execution_count": 88,
   "metadata": {},
   "outputs": [],
   "source": [
    "time = tf.Variable(0.) \n",
    "with tf.GradientTape() as outer_tape:\n",
    "    with tf.GradientTape() as inner_tape:\n",
    "        position =  4.9 * time ** 2 \n",
    "    speed = inner_tape.gradient(position, time)\n",
    "acceleration = outer_tape.gradient(speed, time)"
   ]
  },
  {
   "cell_type": "code",
   "execution_count": 89,
   "metadata": {},
   "outputs": [
    {
     "data": {
      "text/plain": [
       "<tf.Tensor: shape=(), dtype=float32, numpy=9.8>"
      ]
     },
     "execution_count": 89,
     "metadata": {},
     "output_type": "execute_result"
    }
   ],
   "source": [
    "acceleration"
   ]
  },
  {
   "cell_type": "code",
   "execution_count": 90,
   "metadata": {},
   "outputs": [],
   "source": [
    "num_samples_per_class = 1000 \n",
    "negative_samples = np.random.multivariate_normal(\n",
    "    mean=[0, 3],\n",
    "    cov=[[1, 0.5],[0.5, 1]],\n",
    "    size=num_samples_per_class)\n",
    "positive_samples = np.random.multivariate_normal(\n",
    "    mean=[3, 0],\n",
    "    cov=[[1, 0.5],[0.5, 1]],\n",
    "    size=num_samples_per_class)"
   ]
  },
  {
   "cell_type": "code",
   "execution_count": 91,
   "metadata": {},
   "outputs": [
    {
     "data": {
      "text/plain": [
       "(1000, 2)"
      ]
     },
     "execution_count": 91,
     "metadata": {},
     "output_type": "execute_result"
    }
   ],
   "source": [
    "positive_samples.shape"
   ]
  },
  {
   "cell_type": "code",
   "execution_count": 92,
   "metadata": {},
   "outputs": [],
   "source": [
    "inputs = np.vstack((negative_samples, positive_samples)).astype(np.float32)"
   ]
  },
  {
   "cell_type": "code",
   "execution_count": 93,
   "metadata": {},
   "outputs": [
    {
     "data": {
      "text/plain": [
       "(2000, 2)"
      ]
     },
     "execution_count": 93,
     "metadata": {},
     "output_type": "execute_result"
    }
   ],
   "source": [
    "inputs.shape"
   ]
  },
  {
   "cell_type": "code",
   "execution_count": 94,
   "metadata": {},
   "outputs": [],
   "source": [
    "targets = np.vstack((np.zeros((num_samples_per_class, 1), dtype=np.float32),\n",
    "                    np.ones((num_samples_per_class, 1), dtype=np.float32)))"
   ]
  },
  {
   "cell_type": "code",
   "execution_count": 95,
   "metadata": {},
   "outputs": [
    {
     "data": {
      "text/plain": [
       "(2000, 1)"
      ]
     },
     "execution_count": 95,
     "metadata": {},
     "output_type": "execute_result"
    }
   ],
   "source": [
    "targets.shape"
   ]
  },
  {
   "cell_type": "code",
   "execution_count": 96,
   "metadata": {},
   "outputs": [
    {
     "data": {
      "image/png": "[encoded data removed]",
      "text/plain": [
       "<Figure size 640x480 with 1 Axes>"
      ]
     },
     "metadata": {},
     "output_type": "display_data"
    }
   ],
   "source": [
    "import matplotlib.pyplot as plt\n",
    "plt.scatter(inputs[:, 0], inputs[:, 1], c=targets[:, 0])\n",
    "plt.show()"
   ]
  },
  {
   "cell_type": "code",
   "execution_count": 123,
   "metadata": {},
   "outputs": [],
   "source": [
    "input_dim = 2\n",
    "target_dim = 1\n",
    "W = tf.Variable(tf.random.uniform((input_dim, target_dim)))\n",
    "b = tf.Variable(tf.zeros((target_dim,)))"
   ]
  },
  {
   "cell_type": "code",
   "execution_count": 124,
   "metadata": {},
   "outputs": [],
   "source": [
    "def model(inputs):\n",
    "    return tf.matmul(inputs, W) + b"
   ]
  },
  {
   "cell_type": "code",
   "execution_count": 125,
   "metadata": {},
   "outputs": [
    {
     "data": {
      "text/plain": [
       "TensorShape([2, 1])"
      ]
     },
     "execution_count": 125,
     "metadata": {},
     "output_type": "execute_result"
    }
   ],
   "source": [
    "W.shape"
   ]
  },
  {
   "cell_type": "code",
   "execution_count": 126,
   "metadata": {},
   "outputs": [],
   "source": [
    "def square_loss(targets, predictions):\n",
    "    return tf.reduce_mean(tf.square(targets - predictions))"
   ]
  },
  {
   "cell_type": "code",
   "execution_count": 130,
   "metadata": {},
   "outputs": [],
   "source": [
    "lr = 1e-1\n",
    "\n",
    "def training_step(inputs, targets):\n",
    "    with tf.GradientTape(persistent=True) as tape:\n",
    "        predictions = model(inputs)\n",
    "        loss = square_loss(targets, predictions)\n",
    "    W.assign_sub(lr * tape.gradient(loss, W))\n",
    "    b.assign_sub(lr * tape.gradient(loss, b))\n",
    "    return loss"
   ]
  },
  {
   "cell_type": "code",
   "execution_count": 131,
   "metadata": {},
   "outputs": [
    {
     "name": "stdout",
     "output_type": "stream",
     "text": [
      "Loss at step 0: 0.0890\n",
      "Loss at step 1: 0.0820\n",
      "Loss at step 2: 0.0770\n",
      "Loss at step 3: 0.0726\n",
      "Loss at step 4: 0.0686\n",
      "Loss at step 5: 0.0649\n",
      "Loss at step 6: 0.0615\n",
      "Loss at step 7: 0.0585\n",
      "Loss at step 8: 0.0556\n",
      "Loss at step 9: 0.0530\n",
      "Loss at step 10: 0.0507\n",
      "Loss at step 11: 0.0485\n",
      "Loss at step 12: 0.0465\n",
      "Loss at step 13: 0.0447\n",
      "Loss at step 14: 0.0431\n",
      "Loss at step 15: 0.0416\n",
      "Loss at step 16: 0.0402\n",
      "Loss at step 17: 0.0389\n",
      "Loss at step 18: 0.0378\n",
      "Loss at step 19: 0.0367\n",
      "Loss at step 20: 0.0357\n",
      "Loss at step 21: 0.0348\n",
      "Loss at step 22: 0.0340\n",
      "Loss at step 23: 0.0333\n",
      "Loss at step 24: 0.0326\n",
      "Loss at step 25: 0.0320\n",
      "Loss at step 26: 0.0314\n",
      "Loss at step 27: 0.0309\n",
      "Loss at step 28: 0.0304\n",
      "Loss at step 29: 0.0300\n",
      "Loss at step 30: 0.0296\n",
      "Loss at step 31: 0.0292\n",
      "Loss at step 32: 0.0289\n",
      "Loss at step 33: 0.0286\n",
      "Loss at step 34: 0.0283\n",
      "Loss at step 35: 0.0280\n",
      "Loss at step 36: 0.0278\n",
      "Loss at step 37: 0.0276\n",
      "Loss at step 38: 0.0274\n",
      "Loss at step 39: 0.0272\n"
     ]
    }
   ],
   "source": [
    "for step in range(40):\n",
    "    loss = training_step(inputs, targets)\n",
    "    print(f\"Loss at step {step}: {loss:.4f}\")"
   ]
  },
  {
   "cell_type": "code",
   "execution_count": 132,
   "metadata": {},
   "outputs": [
    {
     "data": {
      "image/png": "[encoded data removed]",
      "text/plain": [
       "<Figure size 640x480 with 1 Axes>"
      ]
     },
     "metadata": {},
     "output_type": "display_data"
    }
   ],
   "source": [
    "predictions = model(inputs)\n",
    "plt.scatter(inputs[:, 0], inputs[:, 1], c=predictions[:, 0] > 0.5)\n",
    "plt.show()"
   ]
  },
  {
   "cell_type": "code",
   "execution_count": 133,
   "metadata": {},
   "outputs": [
    {
     "data": {
      "text/plain": [
       "<matplotlib.collections.PathCollection at 0x7efa546ce100>"
      ]
     },
     "execution_count": 133,
     "metadata": {},
     "output_type": "execute_result"
    },
    {
     "data": {
      "image/png": "[encoded data removed]",
      "text/plain": [
       "<Figure size 640x480 with 1 Axes>"
      ]
     },
     "metadata": {},
     "output_type": "display_data"
    }
   ],
   "source": [
    "x = np.linspace(-1, 4, 100)\n",
    "y = - W[0] /  W[1] * x + (0.5 - b) / W[1]\n",
    "plt.plot(x, y, \"-r\")\n",
    "plt.scatter(inputs[:, 0], inputs[:, 1], c=predictions[:, 0] > 0.5)"
   ]
  },
  {
   "cell_type": "code",
   "execution_count": 134,
   "metadata": {},
   "outputs": [],
   "source": [
    "from tensorflow import keras\n",
    "\n",
    "class SimpleDense(keras.layers.Layer):\n",
    "    \n",
    "\n",
    "    def __init__(self, units, activation=None) -> None:\n",
    "        super().__init__()\n",
    "        self.units = units\n",
    "        self.activation = activation\n",
    "\n",
    "    def build(self, input_shape):\n",
    "        self.W = self.add_weight(shape=(input_shape[-1], self.units), initializer='random_normal')\n",
    "        self.b = self.add_weight(shape=(self.units,), initializer='zeros')\n",
    "\n",
    "    def call(self, inputs):\n",
    "        y = tf.matmul(inputs, self.W) + self.b\n",
    "        if self.activation is not None:\n",
    "            y = self.activation(y)\n",
    "        return y"
   ]
  },
  {
   "cell_type": "code",
   "execution_count": 135,
   "metadata": {},
   "outputs": [
    {
     "name": "stdout",
     "output_type": "stream",
     "text": [
      "(10, 32)\n"
     ]
    }
   ],
   "source": [
    "dense = SimpleDense(units=32, activation=tf.nn.relu)\n",
    "input_tensor = tf.ones(shape=(10, 32))\n",
    "output_tensor = dense(input_tensor)\n",
    "print(output_tensor.shape)"
   ]
  },
  {
   "cell_type": "code",
   "execution_count": 136,
   "metadata": {},
   "outputs": [
    {
     "data": {
      "text/plain": [
       "<tf.Tensor: shape=(10, 32), dtype=float32, numpy=\n",
       "array([[0.05552435, 0.3109188 , 0.17796516, 0.13032103, 0.        ,\n",
       "        0.        , 0.        , 0.        , 0.        , 0.25583076,\n",
       "        0.        , 0.40569544, 0.        , 0.        , 0.        ,\n",
       "        0.32629967, 0.        , 0.21909904, 0.11116028, 0.        ,\n",
       "        0.        , 0.3207817 , 0.11965847, 0.3608265 , 0.08204746,\n",
       "        0.0252893 , 0.20409107, 0.31261158, 0.        , 0.0433979 ,\n",
       "        0.17175484, 0.        ],\n",
       "       [0.05552435, 0.3109188 , 0.17796516, 0.13032103, 0.        ,\n",
       "        0.        , 0.        , 0.        , 0.        , 0.25583076,\n",
       "        0.        , 0.40569544, 0.        , 0.        , 0.        ,\n",
       "        0.32629967, 0.        , 0.21909904, 0.11116028, 0.        ,\n",
       "        0.        , 0.3207817 , 0.11965847, 0.3608265 , 0.08204746,\n",
       "        0.0252893 , 0.20409107, 0.31261158, 0.        , 0.0433979 ,\n",
       "        0.17175484, 0.        ],\n",
       "       [0.05552435, 0.3109188 , 0.17796516, 0.13032103, 0.        ,\n",
       "        0.        , 0.        , 0.        , 0.        , 0.25583076,\n",
       "        0.        , 0.40569544, 0.        , 0.        , 0.        ,\n",
       "        0.32629967, 0.        , 0.21909904, 0.11116028, 0.        ,\n",
       "        0.        , 0.3207817 , 0.11965847, 0.3608265 , 0.08204746,\n",
       "        0.0252893 , 0.20409107, 0.31261158, 0.        , 0.0433979 ,\n",
       "        0.17175484, 0.        ],\n",
       "       [0.05552435, 0.3109188 , 0.17796516, 0.13032103, 0.        ,\n",
       "        0.        , 0.        , 0.        , 0.        , 0.25583076,\n",
       "        0.        , 0.40569544, 0.        , 0.        , 0.        ,\n",
       "        0.32629967, 0.        , 0.21909904, 0.11116028, 0.        ,\n",
       "        0.        , 0.3207817 , 0.11965847, 0.3608265 , 0.08204746,\n",
       "        0.0252893 , 0.20409107, 0.31261158, 0.        , 0.0433979 ,\n",
       "        0.17175484, 0.        ],\n",
       "       [0.05552435, 0.3109188 , 0.17796516, 0.13032103, 0.        ,\n",
       "        0.        , 0.        , 0.        , 0.        , 0.25583076,\n",
       "        0.        , 0.40569544, 0.        , 0.        , 0.        ,\n",
       "        0.32629967, 0.        , 0.21909904, 0.11116028, 0.        ,\n",
       "        0.        , 0.3207817 , 0.11965847, 0.3608265 , 0.08204746,\n",
       "        0.0252893 , 0.20409107, 0.31261158, 0.        , 0.0433979 ,\n",
       "        0.17175484, 0.        ],\n",
       "       [0.05552435, 0.3109188 , 0.17796516, 0.13032103, 0.        ,\n",
       "        0.        , 0.        , 0.        , 0.        , 0.25583076,\n",
       "        0.        , 0.40569544, 0.        , 0.        , 0.        ,\n",
       "        0.32629967, 0.        , 0.21909904, 0.11116028, 0.        ,\n",
       "        0.        , 0.3207817 , 0.11965847, 0.3608265 , 0.08204746,\n",
       "        0.0252893 , 0.20409107, 0.31261158, 0.        , 0.0433979 ,\n",
       "        0.17175484, 0.        ],\n",
       "       [0.05552435, 0.3109188 , 0.17796516, 0.13032103, 0.        ,\n",
       "        0.        , 0.        , 0.        , 0.        , 0.25583076,\n",
       "        0.        , 0.40569544, 0.        , 0.        , 0.        ,\n",
       "        0.32629967, 0.        , 0.21909904, 0.11116028, 0.        ,\n",
       "        0.        , 0.3207817 , 0.11965847, 0.3608265 , 0.08204746,\n",
       "        0.0252893 , 0.20409107, 0.31261158, 0.        , 0.0433979 ,\n",
       "        0.17175484, 0.        ],\n",
       "       [0.05552435, 0.3109188 , 0.17796516, 0.13032103, 0.        ,\n",
       "        0.        , 0.        , 0.        , 0.        , 0.25583076,\n",
       "        0.        , 0.40569544, 0.        , 0.        , 0.        ,\n",
       "        0.32629967, 0.        , 0.21909904, 0.11116028, 0.        ,\n",
       "        0.        , 0.3207817 , 0.11965847, 0.3608265 , 0.08204746,\n",
       "        0.0252893 , 0.20409107, 0.31261158, 0.        , 0.0433979 ,\n",
       "        0.17175484, 0.        ],\n",
       "       [0.05552435, 0.3109188 , 0.17796516, 0.13032103, 0.        ,\n",
       "        0.        , 0.        , 0.        , 0.        , 0.25583076,\n",
       "        0.        , 0.40569544, 0.        , 0.        , 0.        ,\n",
       "        0.32629967, 0.        , 0.21909904, 0.11116028, 0.        ,\n",
       "        0.        , 0.3207817 , 0.11965847, 0.3608265 , 0.08204746,\n",
       "        0.0252893 , 0.20409107, 0.31261158, 0.        , 0.0433979 ,\n",
       "        0.17175484, 0.        ],\n",
       "       [0.05552435, 0.3109188 , 0.17796516, 0.13032103, 0.        ,\n",
       "        0.        , 0.        , 0.        , 0.        , 0.25583076,\n",
       "        0.        , 0.40569544, 0.        , 0.        , 0.        ,\n",
       "        0.32629967, 0.        , 0.21909904, 0.11116028, 0.        ,\n",
       "        0.        , 0.3207817 , 0.11965847, 0.3608265 , 0.08204746,\n",
       "        0.0252893 , 0.20409107, 0.31261158, 0.        , 0.0433979 ,\n",
       "        0.17175484, 0.        ]], dtype=float32)>"
      ]
     },
     "execution_count": 136,
     "metadata": {},
     "output_type": "execute_result"
    }
   ],
   "source": [
    "output_tensor"
   ]
  },
  {
   "cell_type": "code",
   "execution_count": 139,
   "metadata": {},
   "outputs": [
    {
     "name": "stdout",
     "output_type": "stream",
     "text": [
      "[-2.22805817 -0.0380295  -0.13298612]\n",
      "[ 0.18382092 -0.72549558  0.17260335]\n"
     ]
    }
   ],
   "source": [
    "for vector in np.random.randn(2, 5)[:, 1:4]:\n",
    "    print(vector)"
   ]
  },
  {
   "cell_type": "code",
   "execution_count": 140,
   "metadata": {},
   "outputs": [],
   "source": [
    "def self_attention(input_sequence):\n",
    "    output = np.zeros(shape=input_sequence.shape)\n",
    "    for i, pivot_vector in enumerate(input_sequence):\n",
    "        scores = np.zeros(shape=(len(input_sequence),))\n",
    "        for j, vector in enumerate(input_sequence):\n",
    "            scores[j] = np.dot(pivot_vector, vector)\n",
    "        scores /= np.sqrt(input_sequence.shape[1])\n",
    "        scores = tf.nn.softmax(scores)\n",
    "        new_pivot_representation = np.zeros(shape=pivot_vector.shape)\n",
    "        for j, vector in enumerate(input_sequence):\n",
    "            new_pivot_representation += vector * scores[j]\n",
    "        output[i] = new_pivot_representation\n",
    "    return output"
   ]
  },
  {
   "cell_type": "code",
   "execution_count": 145,
   "metadata": {},
   "outputs": [
    {
     "data": {
      "text/plain": [
       "(20, 32)"
      ]
     },
     "execution_count": 145,
     "metadata": {},
     "output_type": "execute_result"
    }
   ],
   "source": [
    "input_sequence = np.ones((20, 32))\n",
    "output = self_attention(input_sequence)\n",
    "output.shape"
   ]
  },
  {
   "cell_type": "code",
   "execution_count": 155,
   "metadata": {},
   "outputs": [
    {
     "ename": "IndexError",
     "evalue": "Exception encountered when calling layer \"softmax_4\" \"                 f\"(type Softmax).\n\ntuple index out of range\n\nCall arguments received by layer \"softmax_4\" \"                 f\"(type Softmax):\n  • inputs=tf.Tensor(shape=(3, 4), dtype=float32)\n  • mask=None",
     "output_type": "error",
     "traceback": [
      "\u001b[0;31m---------------------------------------------------------------------------\u001b[0m",
      "\u001b[0;31mIndexError\u001b[0m                                Traceback (most recent call last)",
      "Cell \u001b[0;32mIn [155], line 6\u001b[0m\n\u001b[1;32m      4\u001b[0m inputs \u001b[39m=\u001b[39m tf\u001b[39m.\u001b[39mrandom\u001b[39m.\u001b[39mnormal((\u001b[39m3\u001b[39m, \u001b[39m256\u001b[39m))\n\u001b[1;32m      5\u001b[0m mha_layer \u001b[39m=\u001b[39m MultiHeadAttention(num_heads\u001b[39m=\u001b[39mnum_heads, key_dim\u001b[39m=\u001b[39membed_dim)\n\u001b[0;32m----> 6\u001b[0m outputs \u001b[39m=\u001b[39m mha_layer(inputs, inputs)\n",
      "File \u001b[0;32m~/anaconda3/envs/tf/lib/python3.9/site-packages/keras/utils/traceback_utils.py:70\u001b[0m, in \u001b[0;36mfilter_traceback.<locals>.error_handler\u001b[0;34m(*args, **kwargs)\u001b[0m\n\u001b[1;32m     67\u001b[0m     filtered_tb \u001b[39m=\u001b[39m _process_traceback_frames(e\u001b[39m.\u001b[39m__traceback__)\n\u001b[1;32m     68\u001b[0m     \u001b[39m# To get the full stack trace, call:\u001b[39;00m\n\u001b[1;32m     69\u001b[0m     \u001b[39m# `tf.debugging.disable_traceback_filtering()`\u001b[39;00m\n\u001b[0;32m---> 70\u001b[0m     \u001b[39mraise\u001b[39;00m e\u001b[39m.\u001b[39mwith_traceback(filtered_tb) \u001b[39mfrom\u001b[39;00m \u001b[39mNone\u001b[39m\n\u001b[1;32m     71\u001b[0m \u001b[39mfinally\u001b[39;00m:\n\u001b[1;32m     72\u001b[0m     \u001b[39mdel\u001b[39;00m filtered_tb\n",
      "File \u001b[0;32m~/anaconda3/envs/tf/lib/python3.9/site-packages/keras/layers/activation/softmax.py:103\u001b[0m, in \u001b[0;36mSoftmax.call\u001b[0;34m(self, inputs, mask)\u001b[0m\n\u001b[1;32m     98\u001b[0m         \u001b[39mreturn\u001b[39;00m tf\u001b[39m.\u001b[39mexp(\n\u001b[1;32m     99\u001b[0m             inputs\n\u001b[1;32m    100\u001b[0m             \u001b[39m-\u001b[39m tf\u001b[39m.\u001b[39mreduce_logsumexp(inputs, axis\u001b[39m=\u001b[39m\u001b[39mself\u001b[39m\u001b[39m.\u001b[39maxis, keepdims\u001b[39m=\u001b[39m\u001b[39mTrue\u001b[39;00m)\n\u001b[1;32m    101\u001b[0m         )\n\u001b[1;32m    102\u001b[0m     \u001b[39melse\u001b[39;00m:\n\u001b[0;32m--> 103\u001b[0m         \u001b[39mreturn\u001b[39;00m backend\u001b[39m.\u001b[39msoftmax(inputs, axis\u001b[39m=\u001b[39m\u001b[39mself\u001b[39;49m\u001b[39m.\u001b[39;49maxis[\u001b[39m0\u001b[39;49m])\n\u001b[1;32m    104\u001b[0m \u001b[39mreturn\u001b[39;00m backend\u001b[39m.\u001b[39msoftmax(inputs, axis\u001b[39m=\u001b[39m\u001b[39mself\u001b[39m\u001b[39m.\u001b[39maxis)\n",
      "\u001b[0;31mIndexError\u001b[0m: Exception encountered when calling layer \"softmax_4\" \"                 f\"(type Softmax).\n\ntuple index out of range\n\nCall arguments received by layer \"softmax_4\" \"                 f\"(type Softmax):\n  • inputs=tf.Tensor(shape=(3, 4), dtype=float32)\n  • mask=None"
     ]
    }
   ],
   "source": [
    "from keras.layers import MultiHeadAttention\n",
    "num_heads = 4 \n",
    "embed_dim = 256\n",
    "inputs = tf.random.normal((3, 256))\n",
    "mha_layer = MultiHeadAttention(num_heads=num_heads, key_dim=embed_dim)\n",
    "outputs = mha_layer(inputs, inputs)"
   ]
  },
  {
   "cell_type": "code",
   "execution_count": 166,
   "metadata": {},
   "outputs": [
    {
     "data": {
      "text/plain": [
       "<tf.Tensor: shape=(7, 10), dtype=float32, numpy=\n",
       "array([[8.8370323e-01, 1.1861789e-01, 2.3680222e-01, 3.5339487e-01,\n",
       "        2.5050342e-01, 6.8147552e-01, 7.3934436e-02, 1.3651609e-02,\n",
       "        2.5839603e-01, 7.2755337e-01],\n",
       "       [9.7631955e-01, 7.0909607e-01, 8.1656528e-01, 6.3662386e-01,\n",
       "        2.2146034e-01, 1.7799807e-01, 1.9326973e-01, 5.1833189e-01,\n",
       "        7.4643898e-01, 4.4143391e-01],\n",
       "       [4.1733325e-01, 1.3635170e-01, 6.0558307e-01, 9.9180663e-01,\n",
       "        8.5639954e-04, 6.2902355e-01, 8.6326063e-01, 5.0078225e-01,\n",
       "        9.3574762e-01, 9.4272339e-01],\n",
       "       [6.3147187e-02, 6.9724083e-01, 1.9879162e-01, 5.9850121e-01,\n",
       "        2.7765477e-01, 4.5673096e-01, 3.0764496e-01, 6.9591892e-01,\n",
       "        6.7116559e-01, 4.4235671e-01],\n",
       "       [3.3371782e-01, 6.2937546e-01, 2.4670863e-01, 7.0836401e-01,\n",
       "        6.1701918e-01, 1.2200177e-01, 9.2037320e-01, 1.3115251e-01,\n",
       "        9.9316096e-01, 9.5558226e-01],\n",
       "       [5.9054267e-01, 6.6761291e-01, 6.6782498e-01, 8.6286402e-01,\n",
       "        4.4528258e-01, 8.5082817e-01, 2.1139479e-01, 9.9191296e-01,\n",
       "        4.7625744e-01, 9.3686998e-01],\n",
       "       [2.7095735e-01, 3.6012816e-01, 2.0803726e-01, 3.2791126e-01,\n",
       "        9.4493032e-01, 5.0415289e-01, 8.1762874e-01, 9.5130837e-01,\n",
       "        5.5100524e-01, 8.9569640e-01]], dtype=float32)>"
      ]
     },
     "execution_count": 166,
     "metadata": {},
     "output_type": "execute_result"
    }
   ],
   "source": [
    "a"
   ]
  },
  {
   "cell_type": "code",
   "execution_count": 170,
   "metadata": {},
   "outputs": [
    {
     "data": {
      "text/plain": [
       "<tf.Tensor: shape=(7,), dtype=int64, numpy=array([5, 4, 2, 3, 3, 5, 2])>"
      ]
     },
     "execution_count": 170,
     "metadata": {},
     "output_type": "execute_result"
    }
   ],
   "source": [
    "a = tf.random.uniform((7, 10))\n",
    "tf.argmax(tf.nn.softmax(tf.matmul(a, tf.transpose(a))), axis=1)"
   ]
  },
  {
   "cell_type": "code",
   "execution_count": 168,
   "metadata": {},
   "outputs": [
    {
     "data": {
      "text/plain": [
       "<tf.Tensor: shape=(3, 5), dtype=float32, numpy=\n",
       "array([[0.70333827, 0.27808487, 0.42507005, 0.23994946, 0.4126295 ],\n",
       "       [0.9801874 , 0.07290494, 0.636966  , 0.97542393, 0.30518734],\n",
       "       [0.9693507 , 0.16148674, 0.3596363 , 0.70331407, 0.93597007]],\n",
       "      dtype=float32)>"
      ]
     },
     "execution_count": 168,
     "metadata": {},
     "output_type": "execute_result"
    }
   ],
   "source": [
    "a = tf.random.uniform((3, 5))\n",
    "a"
   ]
  },
  {
   "cell_type": "code",
   "execution_count": 171,
   "metadata": {},
   "outputs": [
    {
     "name": "stdout",
     "output_type": "stream",
     "text": [
      "Downloading data from https://storage.googleapis.com/tensorflow/tf-keras-datasets/imdb.npz\n",
      "17464789/17464789 [==============================] - 6s 0us/step\n"
     ]
    }
   ],
   "source": [
    "from keras.datasets import imdb\n",
    "\n",
    "(x_train, y_train), (x_test, y_test) = imdb.load_data()"
   ]
  },
  {
   "cell_type": "code",
   "execution_count": 172,
   "metadata": {},
   "outputs": [
    {
     "data": {
      "text/plain": [
       "array([list([1, 14, 22, 16, 43, 530, 973, 1622, 1385, 65, 458, 4468, 66, 3941, 4, 173, 36, 256, 5, 25, 100, 43, 838, 112, 50, 670, 22665, 9, 35, 480, 284, 5, 150, 4, 172, 112, 167, 21631, 336, 385, 39, 4, 172, 4536, 1111, 17, 546, 38, 13, 447, 4, 192, 50, 16, 6, 147, 2025, 19, 14, 22, 4, 1920, 4613, 469, 4, 22, 71, 87, 12, 16, 43, 530, 38, 76, 15, 13, 1247, 4, 22, 17, 515, 17, 12, 16, 626, 18, 19193, 5, 62, 386, 12, 8, 316, 8, 106, 5, 4, 2223, 5244, 16, 480, 66, 3785, 33, 4, 130, 12, 16, 38, 619, 5, 25, 124, 51, 36, 135, 48, 25, 1415, 33, 6, 22, 12, 215, 28, 77, 52, 5, 14, 407, 16, 82, 10311, 8, 4, 107, 117, 5952, 15, 256, 4, 31050, 7, 3766, 5, 723, 36, 71, 43, 530, 476, 26, 400, 317, 46, 7, 4, 12118, 1029, 13, 104, 88, 4, 381, 15, 297, 98, 32, 2071, 56, 26, 141, 6, 194, 7486, 18, 4, 226, 22, 21, 134, 476, 26, 480, 5, 144, 30, 5535, 18, 51, 36, 28, 224, 92, 25, 104, 4, 226, 65, 16, 38, 1334, 88, 12, 16, 283, 5, 16, 4472, 113, 103, 32, 15, 16, 5345, 19, 178, 32]),\n",
       "       list([1, 194, 1153, 194, 8255, 78, 228, 5, 6, 1463, 4369, 5012, 134, 26, 4, 715, 8, 118, 1634, 14, 394, 20, 13, 119, 954, 189, 102, 5, 207, 110, 3103, 21, 14, 69, 188, 8, 30, 23, 7, 4, 249, 126, 93, 4, 114, 9, 2300, 1523, 5, 647, 4, 116, 9, 35, 8163, 4, 229, 9, 340, 1322, 4, 118, 9, 4, 130, 4901, 19, 4, 1002, 5, 89, 29, 952, 46, 37, 4, 455, 9, 45, 43, 38, 1543, 1905, 398, 4, 1649, 26, 6853, 5, 163, 11, 3215, 10156, 4, 1153, 9, 194, 775, 7, 8255, 11596, 349, 2637, 148, 605, 15358, 8003, 15, 123, 125, 68, 23141, 6853, 15, 349, 165, 4362, 98, 5, 4, 228, 9, 43, 36893, 1157, 15, 299, 120, 5, 120, 174, 11, 220, 175, 136, 50, 9, 4373, 228, 8255, 5, 25249, 656, 245, 2350, 5, 4, 9837, 131, 152, 491, 18, 46151, 32, 7464, 1212, 14, 9, 6, 371, 78, 22, 625, 64, 1382, 9, 8, 168, 145, 23, 4, 1690, 15, 16, 4, 1355, 5, 28, 6, 52, 154, 462, 33, 89, 78, 285, 16, 145, 95]),\n",
       "       list([1, 14, 47, 8, 30, 31, 7, 4, 249, 108, 7, 4, 5974, 54, 61, 369, 13, 71, 149, 14, 22, 112, 4, 2401, 311, 12, 16, 3711, 33, 75, 43, 1829, 296, 4, 86, 320, 35, 534, 19, 263, 4821, 1301, 4, 1873, 33, 89, 78, 12, 66, 16, 4, 360, 7, 4, 58, 316, 334, 11, 4, 1716, 43, 645, 662, 8, 257, 85, 1200, 42, 1228, 2578, 83, 68, 3912, 15, 36, 165, 1539, 278, 36, 69, 44076, 780, 8, 106, 14, 6905, 1338, 18, 6, 22, 12, 215, 28, 610, 40, 6, 87, 326, 23, 2300, 21, 23, 22, 12, 272, 40, 57, 31, 11, 4, 22, 47, 6, 2307, 51, 9, 170, 23, 595, 116, 595, 1352, 13, 191, 79, 638, 89, 51428, 14, 9, 8, 106, 607, 624, 35, 534, 6, 227, 7, 129, 113]),\n",
       "       ...,\n",
       "       list([1, 11, 6, 230, 245, 6401, 9, 6, 1225, 446, 86527, 45, 2174, 84, 8322, 4007, 21, 4, 912, 84, 14532, 325, 725, 134, 15271, 1715, 84, 5, 36, 28, 57, 1099, 21, 8, 140, 8, 703, 5, 11656, 84, 56, 18, 1644, 14, 9, 31, 7, 4, 9406, 1209, 2295, 26094, 1008, 18, 6, 20, 207, 110, 563, 12, 8, 2901, 17793, 8, 97, 6, 20, 53, 4767, 74, 4, 460, 364, 1273, 29, 270, 11, 960, 108, 45, 40, 29, 2961, 395, 11, 6, 4065, 500, 7, 14492, 89, 364, 70, 29, 140, 4, 64, 4780, 11, 4, 2678, 26, 178, 4, 529, 443, 17793, 5, 27, 710, 117, 74936, 8123, 165, 47, 84, 37, 131, 818, 14, 595, 10, 10, 61, 1242, 1209, 10, 10, 288, 2260, 1702, 34, 2901, 17793, 4, 65, 496, 4, 231, 7, 790, 5, 6, 320, 234, 2766, 234, 1119, 1574, 7, 496, 4, 139, 929, 2901, 17793, 7750, 5, 4241, 18, 4, 8497, 13164, 250, 11, 1818, 7561, 4, 4217, 5408, 747, 1115, 372, 1890, 1006, 541, 9303, 7, 4, 59, 11027, 4, 3586, 22459]),\n",
       "       list([1, 1446, 7079, 69, 72, 3305, 13, 610, 930, 8, 12, 582, 23, 5, 16, 484, 685, 54, 349, 11, 4120, 2959, 45, 58, 1466, 13, 197, 12, 16, 43, 23, 21469, 5, 62, 30, 145, 402, 11, 4131, 51, 575, 32, 61, 369, 71, 66, 770, 12, 1054, 75, 100, 2198, 8, 4, 105, 37, 69, 147, 712, 75, 3543, 44, 257, 390, 5, 69, 263, 514, 105, 50, 286, 1814, 23, 4, 123, 13, 161, 40, 5, 421, 4, 116, 16, 897, 13, 40691, 40, 319, 5872, 112, 6700, 11, 4803, 121, 25, 70, 3468, 4, 719, 3798, 13, 18, 31, 62, 40, 8, 7200, 4, 29455, 7, 14, 123, 5, 942, 25, 8, 721, 12, 145, 5, 202, 12, 160, 580, 202, 12, 6, 52, 58, 11418, 92, 401, 728, 12, 39, 14, 251, 8, 15, 251, 5, 21213, 12, 38, 84, 80, 124, 12, 9, 23]),\n",
       "       list([1, 17, 6, 194, 337, 7, 4, 204, 22, 45, 254, 8, 106, 14, 123, 4, 12815, 270, 14437, 5, 16923, 12255, 732, 2098, 101, 405, 39, 14, 1034, 4, 1310, 9, 115, 50, 305, 12, 47, 4, 168, 5, 235, 7, 38, 111, 699, 102, 7, 4, 4039, 9245, 9, 24, 6, 78, 1099, 17, 2345, 16553, 21, 27, 9685, 6139, 5, 29043, 1603, 92, 1183, 4, 1310, 7, 4, 204, 42, 97, 90, 35, 221, 109, 29, 127, 27, 118, 8, 97, 12, 157, 21, 6789, 85010, 9, 6, 66, 78, 1099, 4, 631, 1191, 5, 2642, 272, 191, 1070, 6, 7585, 8, 2197, 70907, 10755, 544, 5, 383, 1271, 848, 1468, 12183, 497, 16876, 8, 1597, 8778, 19280, 21, 60, 27, 239, 9, 43, 8368, 209, 405, 10, 10, 12, 764, 40, 4, 248, 20, 12, 16, 5, 174, 1791, 72, 7, 51, 6, 1739, 22, 4, 204, 131, 9])],\n",
       "      dtype=object)"
      ]
     },
     "execution_count": 172,
     "metadata": {},
     "output_type": "execute_result"
    }
   ],
   "source": [
    "x_train"
   ]
  },
  {
   "cell_type": "code",
   "execution_count": 175,
   "metadata": {},
   "outputs": [
    {
     "name": "stdout",
     "output_type": "stream",
     "text": [
      "/usr/bin/zsh: /home/rayed/anaconda3/envs/tf/lib/libtinfo.so.6: no version information available (required by /usr/bin/zsh)\n",
      "  % Total    % Received % Xferd  Average Speed   Time    Time     Time  Current\n",
      "                                 Dload  Upload   Total   Spent    Left  Speed\n",
      "100 80.2M  100 80.2M    0     0  2949k      0  0:00:27  0:00:27 --:--:-- 3679k 0  2791k      0  0:00:29  0:00:22  0:00:07 3229k\n",
      "/usr/bin/zsh: /home/rayed/anaconda3/envs/tf/lib/libtinfo.so.6: no version information available (required by /usr/bin/zsh)\n"
     ]
    }
   ],
   "source": [
    "!curl -O https://ai.stanford.edu/~amaas/data/sentiment/aclImdb_v1.tar.gz\n",
    "!tar -xf aclImdb_v1.tar.gz"
   ]
  },
  {
   "cell_type": "code",
   "execution_count": 176,
   "metadata": {},
   "outputs": [
    {
     "name": "stdout",
     "output_type": "stream",
     "text": [
      "/usr/bin/zsh: /home/rayed/anaconda3/envs/tf/lib/libtinfo.so.6: no version information available (required by /usr/bin/zsh)\n",
      "I first saw this back in the early 90s on UK TV, i did like it then but i missed the chance to tape it, many years passed but the film always stuck with me and i lost hope of seeing it TV again, the main thing that stuck with me was the end, the hole castle part really touched me, its easy to watch, has a great story, great music, the list goes on and on, its OK me saying how good it is but everyone will take there own best bits away with them once they have seen it, yes the animation is top notch and beautiful to watch, it does show its age in a very few parts but that has now become part of it beauty, i am so glad it has came out on DVD as it is one of my top 10 films of all time. Buy it or rent it just see it, best viewing is at night alone with drink and food in reach so you don't have to stop the film.<br /><br />Enjoy"
     ]
    }
   ],
   "source": [
    "!cat aclImdb/train/pos/4077_10.txt"
   ]
  },
  {
   "cell_type": "code",
   "execution_count": 178,
   "metadata": {},
   "outputs": [],
   "source": [
    "import os, pathlib, shutil, random\n",
    "\n",
    "base_dir = pathlib.Path('aclImdb')\n",
    "val_dir = base_dir / 'val'\n",
    "train_dir = base_dir / 'train'\n",
    "for category in ['neg', 'pos']:\n",
    "    os.makedirs(val_dir / category, exist_ok=True)\n",
    "    files = os.listdir(train_dir / category)\n",
    "    random.Random(1337).shuffle(files)\n",
    "    num_val_samples = int(0.2 * len(files))\n",
    "    val_files = files[-num_val_samples:]\n",
    "    for fname in val_files:\n",
    "        shutil.move(train_dir / category / fname,\n",
    "                    val_dir / category / fname)\n"
   ]
  },
  {
   "cell_type": "code",
   "execution_count": 179,
   "metadata": {},
   "outputs": [
    {
     "data": {
      "text/plain": [
       "10000"
      ]
     },
     "execution_count": 179,
     "metadata": {},
     "output_type": "execute_result"
    }
   ],
   "source": [
    "len(os.listdir('aclImdb/train/pos/'))"
   ]
  },
  {
   "cell_type": "code",
   "execution_count": 180,
   "metadata": {},
   "outputs": [
    {
     "data": {
      "text/plain": [
       "2500"
      ]
     },
     "execution_count": 180,
     "metadata": {},
     "output_type": "execute_result"
    }
   ],
   "source": [
    "len(os.listdir('aclImdb/val/pos/'))"
   ]
  },
  {
   "cell_type": "code",
   "execution_count": 1,
   "metadata": {},
   "outputs": [
    {
     "name": "stderr",
     "output_type": "stream",
     "text": [
      "2022-10-30 04:43:57.888040: I tensorflow/core/platform/cpu_feature_guard.cc:193] This TensorFlow binary is optimized with oneAPI Deep Neural Network Library (oneDNN) to use the following CPU instructions in performance-critical operations:  AVX2 AVX_VNNI FMA\n",
      "To enable them in other operations, rebuild TensorFlow with the appropriate compiler flags.\n",
      "2022-10-30 04:43:57.952122: I tensorflow/core/util/util.cc:169] oneDNN custom operations are on. You may see slightly different numerical results due to floating-point round-off errors from different computation orders. To turn them off, set the environment variable `TF_ENABLE_ONEDNN_OPTS=0`.\n",
      "2022-10-30 04:43:57.968517: E tensorflow/stream_executor/cuda/cuda_blas.cc:2981] Unable to register cuBLAS factory: Attempting to register factory for plugin cuBLAS when one has already been registered\n",
      "2022-10-30 04:43:58.270614: W tensorflow/stream_executor/platform/default/dso_loader.cc:64] Could not load dynamic library 'libnvinfer.so.7'; dlerror: libnvinfer.so.7: cannot open shared object file: No such file or directory; LD_LIBRARY_PATH: :/home/rayed/anaconda3/envs/tf/lib/:/home/rayed/anaconda3/envs/tf/lib/\n",
      "2022-10-30 04:43:58.270646: W tensorflow/stream_executor/platform/default/dso_loader.cc:64] Could not load dynamic library 'libnvinfer_plugin.so.7'; dlerror: libnvinfer_plugin.so.7: cannot open shared object file: No such file or directory; LD_LIBRARY_PATH: :/home/rayed/anaconda3/envs/tf/lib/:/home/rayed/anaconda3/envs/tf/lib/\n",
      "2022-10-30 04:43:58.270649: W tensorflow/compiler/tf2tensorrt/utils/py_utils.cc:38] TF-TRT Warning: Cannot dlopen some TensorRT libraries. If you would like to use Nvidia GPU with TensorRT, please make sure the missing libraries mentioned above are installed properly.\n"
     ]
    },
    {
     "name": "stdout",
     "output_type": "stream",
     "text": [
      "Found 20000 files belonging to 2 classes.\n"
     ]
    },
    {
     "name": "stderr",
     "output_type": "stream",
     "text": [
      "2022-10-30 04:43:58.834800: I tensorflow/stream_executor/cuda/cuda_gpu_executor.cc:980] successful NUMA node read from SysFS had negative value (-1), but there must be at least one NUMA node, so returning NUMA node zero\n",
      "2022-10-30 04:43:58.839760: I tensorflow/stream_executor/cuda/cuda_gpu_executor.cc:980] successful NUMA node read from SysFS had negative value (-1), but there must be at least one NUMA node, so returning NUMA node zero\n",
      "2022-10-30 04:43:58.839870: I tensorflow/stream_executor/cuda/cuda_gpu_executor.cc:980] successful NUMA node read from SysFS had negative value (-1), but there must be at least one NUMA node, so returning NUMA node zero\n",
      "2022-10-30 04:43:58.840403: I tensorflow/core/platform/cpu_feature_guard.cc:193] This TensorFlow binary is optimized with oneAPI Deep Neural Network Library (oneDNN) to use the following CPU instructions in performance-critical operations:  AVX2 AVX_VNNI FMA\n",
      "To enable them in other operations, rebuild TensorFlow with the appropriate compiler flags.\n",
      "2022-10-30 04:43:58.840961: I tensorflow/stream_executor/cuda/cuda_gpu_executor.cc:980] successful NUMA node read from SysFS had negative value (-1), but there must be at least one NUMA node, so returning NUMA node zero\n",
      "2022-10-30 04:43:58.841055: I tensorflow/stream_executor/cuda/cuda_gpu_executor.cc:980] successful NUMA node read from SysFS had negative value (-1), but there must be at least one NUMA node, so returning NUMA node zero\n",
      "2022-10-30 04:43:58.841115: I tensorflow/stream_executor/cuda/cuda_gpu_executor.cc:980] successful NUMA node read from SysFS had negative value (-1), but there must be at least one NUMA node, so returning NUMA node zero\n",
      "2022-10-30 04:43:59.115156: I tensorflow/stream_executor/cuda/cuda_gpu_executor.cc:980] successful NUMA node read from SysFS had negative value (-1), but there must be at least one NUMA node, so returning NUMA node zero\n",
      "2022-10-30 04:43:59.115245: I tensorflow/stream_executor/cuda/cuda_gpu_executor.cc:980] successful NUMA node read from SysFS had negative value (-1), but there must be at least one NUMA node, so returning NUMA node zero\n",
      "2022-10-30 04:43:59.115291: I tensorflow/stream_executor/cuda/cuda_gpu_executor.cc:980] successful NUMA node read from SysFS had negative value (-1), but there must be at least one NUMA node, so returning NUMA node zero\n",
      "2022-10-30 04:43:59.115338: I tensorflow/core/common_runtime/gpu/gpu_device.cc:1616] Created device /job:localhost/replica:0/task:0/device:GPU:0 with 343 MB memory:  -> device: 0, name: NVIDIA GeForce RTX 3090 Ti, pci bus id: 0000:01:00.0, compute capability: 8.6\n"
     ]
    },
    {
     "name": "stdout",
     "output_type": "stream",
     "text": [
      "Found 5000 files belonging to 2 classes.\n",
      "Found 25000 files belonging to 2 classes.\n"
     ]
    }
   ],
   "source": [
    "from tensorflow import keras\n",
    "\n",
    "batch_size = 32\n",
    "\n",
    "train_ds = keras.utils.text_dataset_from_directory('aclImdb/train', batch_size=batch_size)\n",
    "val_ds = keras.utils.text_dataset_from_directory('aclImdb/val', batch_size=batch_size)\n",
    "test_ds = keras.utils.text_dataset_from_directory('aclImdb/test', batch_size=batch_size)"
   ]
  },
  {
   "cell_type": "code",
   "execution_count": 2,
   "metadata": {},
   "outputs": [],
   "source": [
    "from keras.layers import TextVectorization\n",
    "text_vectorization = TextVectorization(max_tokens=20_000, output_mode='multi_hot')\n",
    "\n",
    "text_only_train_ds = train_ds.map(lambda x, y: x)\n",
    "text_vectorization.adapt(text_only_train_ds)\n",
    "\n",
    "binary_1gram_train_ds = train_ds.map(\n",
    "    lambda x, y: (text_vectorization(x), y),\n",
    "    num_parallel_calls=4)\n",
    "binary_1gram_val_ds = val_ds.map(\n",
    "    lambda x, y: (text_vectorization(x), y),\n",
    "    num_parallel_calls=4)\n",
    "binary_1gram_test_ds = test_ds.map(\n",
    "    lambda x, y: (text_vectorization(x), y),\n",
    "    num_parallel_calls=4)"
   ]
  },
  {
   "cell_type": "code",
   "execution_count": 185,
   "metadata": {},
   "outputs": [
    {
     "name": "stdout",
     "output_type": "stream",
     "text": [
      "inputs.shape: (32, 20000)\n",
      "inputs.dtype: <dtype: 'float32'>\n",
      "targets.shape: (32,)\n",
      "targets.dtype: <dtype: 'int32'>\n",
      "inputs[0]: tf.Tensor([1. 1. 1. ... 0. 0. 0.], shape=(20000,), dtype=float32)\n",
      "targets[0]: tf.Tensor(0, shape=(), dtype=int32)\n"
     ]
    }
   ],
   "source": [
    "for inputs, targets in binary_1gram_train_ds.take(1):\n",
    "    print(\"inputs.shape:\", inputs.shape)\n",
    "    print(\"inputs.dtype:\", inputs.dtype)\n",
    "    print(\"targets.shape:\", targets.shape)\n",
    "    print(\"targets.dtype:\", targets.dtype)\n",
    "    print(\"inputs[0]:\", inputs[0])\n",
    "    print(\"targets[0]:\", targets[0])"
   ]
  },
  {
   "cell_type": "code",
   "execution_count": 186,
   "metadata": {},
   "outputs": [],
   "source": [
    "from tensorflow import keras\n",
    "from tensorflow.keras import layers\n",
    "\n",
    "def get_model(max_tokens=20_000, hidden_dim=16):\n",
    "    inputs = layers.Input(shape=(max_tokens,))\n",
    "    x = layers.Dense(hidden_dim, activation='relu')(inputs)\n",
    "    dropout = layers.Dropout(0.5)(x)\n",
    "    outputs = layers.Dense(1, activation='sigmoid')(dropout)\n",
    "    model = keras.Model(inputs, outputs)\n",
    "    model.compile(optimizer='rmsprop',\n",
    "                    loss=\"binary_crossentropy\",\n",
    "                    metrics=['accuracy'])\n",
    "    return model"
   ]
  },
  {
   "cell_type": "code",
   "execution_count": 189,
   "metadata": {},
   "outputs": [
    {
     "name": "stdout",
     "output_type": "stream",
     "text": [
      "Model: \"model_2\"\n",
      "_________________________________________________________________\n",
      " Layer (type)                Output Shape              Param #   \n",
      "=================================================================\n",
      " input_3 (InputLayer)        [(None, 20000)]           0         \n",
      "                                                                 \n",
      " dense_6 (Dense)             (None, 16)                320016    \n",
      "                                                                 \n",
      " dropout_7 (Dropout)         (None, 16)                0         \n",
      "                                                                 \n",
      " dense_7 (Dense)             (None, 1)                 17        \n",
      "                                                                 \n",
      "=================================================================\n",
      "Total params: 320,033\n",
      "Trainable params: 320,033\n",
      "Non-trainable params: 0\n",
      "_________________________________________________________________\n",
      "Epoch 1/10\n",
      "625/625 [==============================] - 2s 3ms/step - loss: 0.4132 - accuracy: 0.8231 - val_loss: 0.2906 - val_accuracy: 0.8854\n",
      "Epoch 2/10\n",
      "625/625 [==============================] - 3s 6ms/step - loss: 0.2732 - accuracy: 0.8992 - val_loss: 0.2805 - val_accuracy: 0.8924\n",
      "Epoch 3/10\n",
      "625/625 [==============================] - 4s 6ms/step - loss: 0.2431 - accuracy: 0.9147 - val_loss: 0.2887 - val_accuracy: 0.8932\n",
      "Epoch 4/10\n",
      "625/625 [==============================] - 4s 6ms/step - loss: 0.2296 - accuracy: 0.9244 - val_loss: 0.3053 - val_accuracy: 0.8914\n",
      "Epoch 5/10\n",
      "625/625 [==============================] - 4s 6ms/step - loss: 0.2164 - accuracy: 0.9298 - val_loss: 0.3163 - val_accuracy: 0.8940\n",
      "Epoch 6/10\n",
      "625/625 [==============================] - 3s 5ms/step - loss: 0.2110 - accuracy: 0.9330 - val_loss: 0.3249 - val_accuracy: 0.8912\n",
      "Epoch 7/10\n",
      "625/625 [==============================] - 3s 5ms/step - loss: 0.2104 - accuracy: 0.9358 - val_loss: 0.3362 - val_accuracy: 0.8904\n",
      "Epoch 8/10\n",
      "625/625 [==============================] - 3s 5ms/step - loss: 0.2053 - accuracy: 0.9369 - val_loss: 0.3480 - val_accuracy: 0.8884\n",
      "Epoch 9/10\n",
      "625/625 [==============================] - 4s 6ms/step - loss: 0.1990 - accuracy: 0.9383 - val_loss: 0.3551 - val_accuracy: 0.8892\n",
      "Epoch 10/10\n",
      "625/625 [==============================] - 4s 6ms/step - loss: 0.2063 - accuracy: 0.9388 - val_loss: 0.3581 - val_accuracy: 0.8886\n",
      "782/782 [==============================] - 1s 1ms/step - loss: 0.2865 - accuracy: 0.8907\n",
      "Test acc: 0.891\n"
     ]
    }
   ],
   "source": [
    "model = get_model()\n",
    "model.summary()\n",
    "callbacks = [\n",
    "    keras.callbacks.ModelCheckpoint('binary_1gram.keras', save_best_only=True)\n",
    "]\n",
    "model.fit(\n",
    "    binary_1gram_train_ds.cache(),\n",
    "    validation_data=binary_1gram_val_ds.cache(),\n",
    "    epochs=10,\n",
    "    callbacks=callbacks\n",
    ")\n",
    "model = keras.models.load_model(\"binary_1gram.keras\")\n",
    "print(f\"Test acc: {model.evaluate(binary_1gram_test_ds)[1]:.3f}\")"
   ]
  },
  {
   "cell_type": "code",
   "execution_count": 190,
   "metadata": {},
   "outputs": [],
   "source": [
    "text_vectorization = TextVectorization(\n",
    "    ngrams=2,\n",
    "    max_tokens=20000,\n",
    "    output_mode=\"multi_hot\",\n",
    ")"
   ]
  },
  {
   "cell_type": "code",
   "execution_count": 191,
   "metadata": {},
   "outputs": [
    {
     "name": "stdout",
     "output_type": "stream",
     "text": [
      "Model: \"model_3\"\n",
      "_________________________________________________________________\n",
      " Layer (type)                Output Shape              Param #   \n",
      "=================================================================\n",
      " input_4 (InputLayer)        [(None, 20000)]           0         \n",
      "                                                                 \n",
      " dense_8 (Dense)             (None, 16)                320016    \n",
      "                                                                 \n",
      " dropout_8 (Dropout)         (None, 16)                0         \n",
      "                                                                 \n",
      " dense_9 (Dense)             (None, 1)                 17        \n",
      "                                                                 \n",
      "=================================================================\n",
      "Total params: 320,033\n",
      "Trainable params: 320,033\n",
      "Non-trainable params: 0\n",
      "_________________________________________________________________\n",
      "Epoch 1/10\n",
      "625/625 [==============================] - 2s 3ms/step - loss: 0.3792 - accuracy: 0.8435 - val_loss: 0.2736 - val_accuracy: 0.8908\n",
      "Epoch 2/10\n",
      "625/625 [==============================] - 4s 6ms/step - loss: 0.2360 - accuracy: 0.9175 - val_loss: 0.2774 - val_accuracy: 0.9002\n",
      "Epoch 3/10\n",
      "625/625 [==============================] - 3s 5ms/step - loss: 0.2011 - accuracy: 0.9345 - val_loss: 0.2954 - val_accuracy: 0.9000\n",
      "Epoch 4/10\n",
      "625/625 [==============================] - 3s 5ms/step - loss: 0.1871 - accuracy: 0.9431 - val_loss: 0.3100 - val_accuracy: 0.9002\n",
      "Epoch 5/10\n",
      "625/625 [==============================] - 3s 5ms/step - loss: 0.1783 - accuracy: 0.9474 - val_loss: 0.3248 - val_accuracy: 0.9006\n",
      "Epoch 6/10\n",
      "625/625 [==============================] - 4s 6ms/step - loss: 0.1792 - accuracy: 0.9492 - val_loss: 0.3334 - val_accuracy: 0.9026\n",
      "Epoch 7/10\n",
      "625/625 [==============================] - 3s 5ms/step - loss: 0.1684 - accuracy: 0.9520 - val_loss: 0.3497 - val_accuracy: 0.8994\n",
      "Epoch 8/10\n",
      "625/625 [==============================] - 3s 5ms/step - loss: 0.1667 - accuracy: 0.9549 - val_loss: 0.3622 - val_accuracy: 0.8962\n",
      "Epoch 9/10\n",
      "625/625 [==============================] - 3s 5ms/step - loss: 0.1639 - accuracy: 0.9546 - val_loss: 0.3710 - val_accuracy: 0.8952\n",
      "Epoch 10/10\n",
      "625/625 [==============================] - 3s 5ms/step - loss: 0.1647 - accuracy: 0.9567 - val_loss: 0.3830 - val_accuracy: 0.8946\n",
      "782/782 [==============================] - 1s 1ms/step - loss: 0.2688 - accuracy: 0.8968\n",
      "Test acc: 0.897\n"
     ]
    }
   ],
   "source": [
    "text_vectorization.adapt(text_only_train_ds)\n",
    "binary_2gram_train_ds = train_ds.map(\n",
    "    lambda x, y: (text_vectorization(x), y),\n",
    "    num_parallel_calls=4)\n",
    "binary_2gram_val_ds = val_ds.map(\n",
    "    lambda x, y: (text_vectorization(x), y),\n",
    "    num_parallel_calls=4)\n",
    "binary_2gram_test_ds = test_ds.map(\n",
    "    lambda x, y: (text_vectorization(x), y),\n",
    "    num_parallel_calls=4)\n",
    " \n",
    "model = get_model()\n",
    "model.summary()\n",
    "callbacks = [\n",
    "    keras.callbacks.ModelCheckpoint(\"binary_2gram.keras\",\n",
    "                                    save_best_only=True)\n",
    "]\n",
    "model.fit(binary_2gram_train_ds.cache(),\n",
    "          validation_data=binary_2gram_val_ds.cache(),\n",
    "          epochs=10,\n",
    "          callbacks=callbacks)\n",
    "model = keras.models.load_model(\"binary_2gram.keras\")\n",
    "print(f\"Test acc: {model.evaluate(binary_2gram_test_ds)[1]:.3f}\")"
   ]
  },
  {
   "cell_type": "code",
   "execution_count": 193,
   "metadata": {},
   "outputs": [
    {
     "name": "stdout",
     "output_type": "stream",
     "text": [
      "tf.Tensor(\n",
      "[[1. 1. 1. ... 0. 0. 0.]\n",
      " [1. 1. 1. ... 0. 0. 0.]\n",
      " [1. 1. 1. ... 0. 0. 0.]\n",
      " ...\n",
      " [1. 1. 1. ... 0. 0. 0.]\n",
      " [1. 1. 1. ... 0. 0. 0.]\n",
      " [1. 1. 1. ... 0. 0. 0.]], shape=(32, 20000), dtype=float32)\n"
     ]
    }
   ],
   "source": [
    "for input, target in binary_2gram_train_ds.take(1):\n",
    "    print(input)"
   ]
  },
  {
   "cell_type": "code",
   "execution_count": 198,
   "metadata": {},
   "outputs": [
    {
     "data": {
      "text/plain": [
       "['[UNK]',\n",
       " 'the',\n",
       " 'and',\n",
       " 'a',\n",
       " 'of',\n",
       " 'to',\n",
       " 'is',\n",
       " 'in',\n",
       " 'it',\n",
       " 'i',\n",
       " 'this',\n",
       " 'that',\n",
       " 'br',\n",
       " 'was',\n",
       " 'as',\n",
       " 'for',\n",
       " 'with',\n",
       " 'movie',\n",
       " 'but',\n",
       " 'of the',\n",
       " 'film',\n",
       " 'on',\n",
       " 'not',\n",
       " 'you',\n",
       " 'are',\n",
       " 'his',\n",
       " 'have',\n",
       " 'be',\n",
       " 'he',\n",
       " 'one',\n",
       " 'its',\n",
       " 'in the',\n",
       " 'at',\n",
       " 'all',\n",
       " 'by',\n",
       " 'an',\n",
       " 'they',\n",
       " 'from',\n",
       " 'who',\n",
       " 'so',\n",
       " 'like',\n",
       " 'her',\n",
       " 'just',\n",
       " 'or',\n",
       " 'about',\n",
       " 'has',\n",
       " 'if',\n",
       " 'out',\n",
       " 'some',\n",
       " 'there',\n",
       " 'what',\n",
       " 'this movie',\n",
       " 'good',\n",
       " 'when',\n",
       " 'more',\n",
       " 'very',\n",
       " 'and the',\n",
       " 'is a',\n",
       " 'even',\n",
       " 'my',\n",
       " 'she',\n",
       " 'no',\n",
       " 'the film',\n",
       " 'would',\n",
       " 'up',\n",
       " 'to be',\n",
       " 'to the',\n",
       " 'time',\n",
       " 'which',\n",
       " 'only',\n",
       " 'really',\n",
       " 'story',\n",
       " 'see',\n",
       " 'were',\n",
       " 'their',\n",
       " 'had',\n",
       " 'the movie',\n",
       " 'can',\n",
       " 'this film',\n",
       " 'me',\n",
       " 'it is',\n",
       " 'we',\n",
       " 'than',\n",
       " 'much',\n",
       " 'well',\n",
       " 'this is',\n",
       " 'get',\n",
       " 'will',\n",
       " 'been',\n",
       " 'into',\n",
       " 'also',\n",
       " 'because',\n",
       " 'people',\n",
       " 'do',\n",
       " 'other',\n",
       " 'on the',\n",
       " 'bad',\n",
       " 'first',\n",
       " 'how',\n",
       " 'in a',\n",
       " 'great',\n",
       " 'most',\n",
       " 'dont',\n",
       " 'him',\n",
       " 'it was',\n",
       " 'one of',\n",
       " 'made',\n",
       " 'for the',\n",
       " 'then',\n",
       " 'with the',\n",
       " 'of a',\n",
       " 'make',\n",
       " 'movies',\n",
       " 'could',\n",
       " 'way',\n",
       " 'them',\n",
       " 'films',\n",
       " 'br the',\n",
       " 'any',\n",
       " 'too',\n",
       " 'after',\n",
       " 'characters',\n",
       " 'think',\n",
       " 'is the',\n",
       " 'as a',\n",
       " 'watch',\n",
       " 'at the',\n",
       " 'many',\n",
       " 'two',\n",
       " 'being',\n",
       " 'seen',\n",
       " 'character',\n",
       " 'never',\n",
       " 'little',\n",
       " 'where',\n",
       " 'plot',\n",
       " 'acting',\n",
       " 'best',\n",
       " 'love',\n",
       " 'br br',\n",
       " 'did',\n",
       " 'know',\n",
       " 'in this',\n",
       " 'from the',\n",
       " 'with a',\n",
       " 'as the',\n",
       " 'life',\n",
       " 'show',\n",
       " 'does',\n",
       " 'ever',\n",
       " 'if you',\n",
       " 'your',\n",
       " 'still',\n",
       " 'better',\n",
       " 'over',\n",
       " 'these',\n",
       " 'off',\n",
       " 'end',\n",
       " 'say',\n",
       " 'while',\n",
       " 'why',\n",
       " 'i was',\n",
       " 'that the',\n",
       " 'man',\n",
       " 'the story',\n",
       " 'here',\n",
       " 'to see',\n",
       " 'such',\n",
       " 'scene',\n",
       " 'go',\n",
       " 'out of',\n",
       " 'scenes',\n",
       " 'through',\n",
       " 'something',\n",
       " 'should',\n",
       " 'im',\n",
       " 'by the',\n",
       " 'back',\n",
       " 'those',\n",
       " 'doesnt',\n",
       " 'movie is',\n",
       " 'and i',\n",
       " 'the first',\n",
       " 'watching',\n",
       " 'for a',\n",
       " 'i have',\n",
       " 'was a',\n",
       " 'real',\n",
       " 'though',\n",
       " 'years',\n",
       " 'all the',\n",
       " 'now',\n",
       " 'thing',\n",
       " 'didnt',\n",
       " 'actors',\n",
       " 'have been',\n",
       " 'there is',\n",
       " 'another',\n",
       " 'makes',\n",
       " 'actually',\n",
       " 'nothing',\n",
       " 'before',\n",
       " 'new',\n",
       " 'of this',\n",
       " 'film is',\n",
       " 'and a',\n",
       " 'funny',\n",
       " 'find',\n",
       " 'going',\n",
       " 'work',\n",
       " 'old',\n",
       " 'few',\n",
       " 'look',\n",
       " 'same',\n",
       " 'is not',\n",
       " 'us',\n",
       " 'every',\n",
       " 'part',\n",
       " 'lot',\n",
       " 'br i',\n",
       " 'director',\n",
       " 'again',\n",
       " 'thats',\n",
       " 'quite',\n",
       " 'cant',\n",
       " 'want',\n",
       " 'there are',\n",
       " 'cast',\n",
       " 'the same',\n",
       " 'a good',\n",
       " 'pretty',\n",
       " 'things',\n",
       " 'the end',\n",
       " 'seems',\n",
       " 'young',\n",
       " 'a lot',\n",
       " 'got',\n",
       " 'the most',\n",
       " 'take',\n",
       " 'fact',\n",
       " 'down',\n",
       " 'around',\n",
       " 'however',\n",
       " 'world',\n",
       " 'enough',\n",
       " 'but the',\n",
       " 'give',\n",
       " 'the best',\n",
       " 'may',\n",
       " 'ive',\n",
       " 'big',\n",
       " 'between',\n",
       " 'about the',\n",
       " 'own',\n",
       " 'both',\n",
       " 'to make',\n",
       " 'thought',\n",
       " 'horror',\n",
       " 'original',\n",
       " 'without',\n",
       " 'of his',\n",
       " 'on a',\n",
       " 'always',\n",
       " 'the only',\n",
       " 'gets',\n",
       " 'but i',\n",
       " 'come',\n",
       " 'isnt',\n",
       " 'i think',\n",
       " 'right',\n",
       " 'long',\n",
       " 'saw',\n",
       " 'series',\n",
       " 'theres',\n",
       " 'almost',\n",
       " 'point',\n",
       " 'a movie',\n",
       " 'times',\n",
       " 'least',\n",
       " 'he is',\n",
       " 'that is',\n",
       " 'interesting',\n",
       " 'that i',\n",
       " 'role',\n",
       " 'comedy',\n",
       " 'to watch',\n",
       " 'must',\n",
       " 'action',\n",
       " 'bit',\n",
       " 'whole',\n",
       " 'the plot',\n",
       " 'a great',\n",
       " 'family',\n",
       " 'to a',\n",
       " 'done',\n",
       " 'this one',\n",
       " 'script',\n",
       " 'but it',\n",
       " 'the characters',\n",
       " 'hes',\n",
       " 'might',\n",
       " 'since',\n",
       " 'anything',\n",
       " 'music',\n",
       " 'a very',\n",
       " 'far',\n",
       " 'minutes',\n",
       " 'that it',\n",
       " 'last',\n",
       " 'guy',\n",
       " 'be a',\n",
       " 'feel',\n",
       " 'probably',\n",
       " 'performance',\n",
       " 'rather',\n",
       " 'am',\n",
       " 'some of',\n",
       " 'a few',\n",
       " 'kind',\n",
       " 'and it',\n",
       " 'was the',\n",
       " 'to get',\n",
       " 'have to',\n",
       " 'worst',\n",
       " 'sure',\n",
       " 'its a',\n",
       " 'i dont',\n",
       " 'away',\n",
       " 'they are',\n",
       " 'yet',\n",
       " 'each',\n",
       " 'want to',\n",
       " 'making',\n",
       " 'woman',\n",
       " 'tv',\n",
       " 'is that',\n",
       " 'girl',\n",
       " 'found',\n",
       " 'would have',\n",
       " 'our',\n",
       " 'played',\n",
       " 'fun',\n",
       " 'a little',\n",
       " 'comes',\n",
       " 'anyone',\n",
       " 'having',\n",
       " 'believe',\n",
       " 'the other',\n",
       " 'trying',\n",
       " 'course',\n",
       " 'into the',\n",
       " 'has a',\n",
       " 'at least',\n",
       " 'although',\n",
       " 'the acting',\n",
       " 'like a',\n",
       " 'hard',\n",
       " 'especially',\n",
       " 'to do',\n",
       " 'i am',\n",
       " 'goes',\n",
       " 'looks',\n",
       " 'shows',\n",
       " 'a film',\n",
       " 'day',\n",
       " 'the way',\n",
       " 'lot of',\n",
       " 'wasnt',\n",
       " 'is one',\n",
       " 'put',\n",
       " 'maybe',\n",
       " 'i would',\n",
       " 'book',\n",
       " 'different',\n",
       " 'place',\n",
       " 'kind of',\n",
       " 'would be',\n",
       " 'br this',\n",
       " 'ending',\n",
       " 'everything',\n",
       " 'money',\n",
       " 'once',\n",
       " 'sense',\n",
       " 'set',\n",
       " 'reason',\n",
       " 'true',\n",
       " 'have a',\n",
       " 'main',\n",
       " 'this was',\n",
       " 'to have',\n",
       " '2',\n",
       " 'someone',\n",
       " 'looking',\n",
       " 'worth',\n",
       " 'trying to',\n",
       " 'watched',\n",
       " 'as well',\n",
       " 'plays',\n",
       " 'seem',\n",
       " 'job',\n",
       " 'said',\n",
       " 'three',\n",
       " 'the whole',\n",
       " 'of course',\n",
       " 'that this',\n",
       " 'like the',\n",
       " 'takes',\n",
       " 'actor',\n",
       " 'dvd',\n",
       " 'he was',\n",
       " 'during',\n",
       " 'screen',\n",
       " 'play',\n",
       " 'john',\n",
       " 'instead',\n",
       " 'together',\n",
       " '10',\n",
       " 'a bit',\n",
       " 'effects',\n",
       " 'beautiful',\n",
       " 'seeing',\n",
       " 'later',\n",
       " 'and his',\n",
       " 'most of',\n",
       " 'himself',\n",
       " 'the worst',\n",
       " 'you can',\n",
       " 'that he',\n",
       " 'everyone',\n",
       " 'left',\n",
       " 'version',\n",
       " 'night',\n",
       " 'special',\n",
       " 'house',\n",
       " 'the original',\n",
       " 'audience',\n",
       " 'in his',\n",
       " 'movie was',\n",
       " 'which is',\n",
       " 'is an',\n",
       " 'excellent',\n",
       " 'idea',\n",
       " 'american',\n",
       " 'could have',\n",
       " 'simply',\n",
       " 'more than',\n",
       " 'going to',\n",
       " 'youre',\n",
       " 'read',\n",
       " 'not a',\n",
       " 'i can',\n",
       " 'shot',\n",
       " 'the time',\n",
       " 'nice',\n",
       " 'to say',\n",
       " 'i had',\n",
       " 'wife',\n",
       " 'completely',\n",
       " 'high',\n",
       " 'kids',\n",
       " 'second',\n",
       " 'less',\n",
       " 'at all',\n",
       " 'poor',\n",
       " 'who is',\n",
       " 'war',\n",
       " 'fan',\n",
       " 'else',\n",
       " 'star',\n",
       " 'year',\n",
       " 'used',\n",
       " 'i saw',\n",
       " 'black',\n",
       " 'friends',\n",
       " 'when i',\n",
       " 'try',\n",
       " 'by a',\n",
       " 'need',\n",
       " 'death',\n",
       " 'help',\n",
       " 'given',\n",
       " 'all of',\n",
       " 'use',\n",
       " 'rest',\n",
       " 'truly',\n",
       " 'mind',\n",
       " 'home',\n",
       " 'classic',\n",
       " 'short',\n",
       " 'either',\n",
       " 'of all',\n",
       " 'but this',\n",
       " 'performances',\n",
       " 'boring',\n",
       " 'father',\n",
       " 'such a',\n",
       " 'when the',\n",
       " 'into a',\n",
       " 'men',\n",
       " 'is so',\n",
       " 'hollywood',\n",
       " 'seems to',\n",
       " 'and then',\n",
       " 'along',\n",
       " 'enjoy',\n",
       " 'until',\n",
       " 'half',\n",
       " 'dead',\n",
       " 'it has',\n",
       " 'couple',\n",
       " 'tell',\n",
       " 'its not',\n",
       " 'of them',\n",
       " 'of it',\n",
       " 'women',\n",
       " 'part of',\n",
       " 'wrong',\n",
       " 'next',\n",
       " 'the fact',\n",
       " 'start',\n",
       " 'understand',\n",
       " 'perhaps',\n",
       " 'line',\n",
       " 'remember',\n",
       " 'came',\n",
       " 'full',\n",
       " 'in my',\n",
       " 'recommend',\n",
       " 'let',\n",
       " 'movie and',\n",
       " 'production',\n",
       " 'getting',\n",
       " 'wonderful',\n",
       " 'like this',\n",
       " 'is just',\n",
       " 'the rest',\n",
       " 'stupid',\n",
       " 'i thought',\n",
       " 'episode',\n",
       " 'others',\n",
       " 'small',\n",
       " 'keep',\n",
       " 'with his',\n",
       " 'moments',\n",
       " 'the main',\n",
       " 'mean',\n",
       " 'camera',\n",
       " 'awful',\n",
       " 'she is',\n",
       " 'stars',\n",
       " 'as it',\n",
       " 'gives',\n",
       " 'movie i',\n",
       " 'the world',\n",
       " 'doing',\n",
       " 'playing',\n",
       " 'terrible',\n",
       " 'video',\n",
       " 'sex',\n",
       " 'from a',\n",
       " 'fact that',\n",
       " 'definitely',\n",
       " 'you have',\n",
       " 'film and',\n",
       " 'they were',\n",
       " 'become',\n",
       " 'the two',\n",
       " 'for this',\n",
       " 'often',\n",
       " 'perfect',\n",
       " 'that they',\n",
       " 'early',\n",
       " 'supposed',\n",
       " 'piece',\n",
       " 'itself',\n",
       " 'is very',\n",
       " 'has been',\n",
       " 'name',\n",
       " 'felt',\n",
       " 'human',\n",
       " 'through the',\n",
       " 'the actors',\n",
       " 'finally',\n",
       " 'dialogue',\n",
       " 'that was',\n",
       " 'over the',\n",
       " 'it to',\n",
       " 'couldnt',\n",
       " 'the director',\n",
       " 'lines',\n",
       " 'school',\n",
       " 'lost',\n",
       " 'liked',\n",
       " 'face',\n",
       " 'absolutely',\n",
       " 'you are',\n",
       " 'be the',\n",
       " 'yes',\n",
       " 'had a',\n",
       " 'case',\n",
       " 'waste',\n",
       " 'person',\n",
       " 'and that',\n",
       " 'certainly',\n",
       " 'hope',\n",
       " 'budget',\n",
       " 'against',\n",
       " 'there was',\n",
       " 'at a',\n",
       " 'top',\n",
       " 'written',\n",
       " 'it and',\n",
       " 'id',\n",
       " 'live',\n",
       " 'the script',\n",
       " 'went',\n",
       " 'entire',\n",
       " 'mr',\n",
       " 'so much',\n",
       " 'in fact',\n",
       " 'shes',\n",
       " 'problem',\n",
       " 'the last',\n",
       " 'sort',\n",
       " 'head',\n",
       " 'title',\n",
       " 'style',\n",
       " 'worse',\n",
       " 'picture',\n",
       " 'and is',\n",
       " 'overall',\n",
       " 'several',\n",
       " 'see the',\n",
       " 'already',\n",
       " 'to find',\n",
       " 'of her',\n",
       " 'it a',\n",
       " 'can be',\n",
       " '3',\n",
       " 'will be',\n",
       " 'he has',\n",
       " 'evil',\n",
       " 'becomes',\n",
       " 'story is',\n",
       " 'loved',\n",
       " 'rest of',\n",
       " 'supposed to',\n",
       " 'seemed',\n",
       " 'beginning',\n",
       " 'of my',\n",
       " 'cinema',\n",
       " 'guys',\n",
       " 'it would',\n",
       " 'oh',\n",
       " 'fans',\n",
       " 'boy',\n",
       " 'not to',\n",
       " 'entertaining',\n",
       " 'the show',\n",
       " 'totally',\n",
       " 'dark',\n",
       " 'and he',\n",
       " 'despite',\n",
       " 'throughout',\n",
       " 'unfortunately',\n",
       " 'care',\n",
       " 'about this',\n",
       " 'based',\n",
       " 'white',\n",
       " 'and its',\n",
       " 'to go',\n",
       " 'wanted',\n",
       " 'mother',\n",
       " 'lives',\n",
       " 'killer',\n",
       " 'wants',\n",
       " 'girls',\n",
       " '\\x96',\n",
       " 'i cant',\n",
       " 'example',\n",
       " 'to this',\n",
       " 'friend',\n",
       " 'film was',\n",
       " 'just a',\n",
       " 'final',\n",
       " 'turn',\n",
       " 'because of',\n",
       " 'fine',\n",
       " 'wont',\n",
       " 'is in',\n",
       " 'direction',\n",
       " '1',\n",
       " 'is no',\n",
       " 'does not',\n",
       " 'drama',\n",
       " 'works',\n",
       " 'watch it',\n",
       " 'youll',\n",
       " 'movie that',\n",
       " 'film that',\n",
       " 'sort of',\n",
       " 'hard to',\n",
       " 'guess',\n",
       " 'sound',\n",
       " 'you will',\n",
       " 'writing',\n",
       " 'humor',\n",
       " 'past',\n",
       " 'low',\n",
       " 'with this',\n",
       " 'under',\n",
       " 'i could',\n",
       " 'the cast',\n",
       " 'should be',\n",
       " 'history',\n",
       " 'children',\n",
       " 'as i',\n",
       " 'theyre',\n",
       " 'the book',\n",
       " 'not the',\n",
       " 'and this',\n",
       " 'tries',\n",
       " 'laugh',\n",
       " 'turns',\n",
       " 'ever seen',\n",
       " 'amazing',\n",
       " 'called',\n",
       " 'about a',\n",
       " 'able',\n",
       " 'has to',\n",
       " 'lead',\n",
       " 'behind',\n",
       " 'such as',\n",
       " 'game',\n",
       " 'kill',\n",
       " 'i found',\n",
       " 'i didnt',\n",
       " 'watch this',\n",
       " 'make a',\n",
       " 'enjoyed',\n",
       " 'days',\n",
       " 'end of',\n",
       " 'to his',\n",
       " 'michael',\n",
       " 'the films',\n",
       " 'starts',\n",
       " 'able to',\n",
       " 'than the',\n",
       " 'was not',\n",
       " 'up to',\n",
       " 'sometimes',\n",
       " 'quality',\n",
       " 'when he',\n",
       " 'side',\n",
       " 'the audience',\n",
       " 'favorite',\n",
       " 'because it',\n",
       " 'horrible',\n",
       " 'is also',\n",
       " 'gave',\n",
       " 'as an',\n",
       " 'see this',\n",
       " 'expect',\n",
       " 'acting is',\n",
       " 'act',\n",
       " 'car',\n",
       " 'son',\n",
       " 'had to',\n",
       " 'see it',\n",
       " 'viewer',\n",
       " 'so i',\n",
       " 'soon',\n",
       " 'say that',\n",
       " 'not only',\n",
       " 'i really',\n",
       " 'for me',\n",
       " 'ones',\n",
       " 'eyes',\n",
       " 'parts',\n",
       " 'after the',\n",
       " 'but its',\n",
       " 'obviously',\n",
       " 'flick',\n",
       " 'of those',\n",
       " 'town',\n",
       " 'should have',\n",
       " 'brilliant',\n",
       " 'heart',\n",
       " 'actress',\n",
       " 'to me',\n",
       " 'on this',\n",
       " 'enough to',\n",
       " 'well as',\n",
       " 'themselves',\n",
       " 'myself',\n",
       " 'art',\n",
       " 'the ending',\n",
       " 'very good',\n",
       " 'are the',\n",
       " 'that you',\n",
       " 'police',\n",
       " 'directed',\n",
       " 'decent',\n",
       " 'stories',\n",
       " 'of their',\n",
       " 'where the',\n",
       " 'seem to',\n",
       " 'feeling',\n",
       " 'and not',\n",
       " 'says',\n",
       " 'blood',\n",
       " 'took',\n",
       " 'in which',\n",
       " 'close',\n",
       " 'a couple',\n",
       " 'you want',\n",
       " 'highly',\n",
       " 'do not',\n",
       " 'leave',\n",
       " 'in an',\n",
       " 'so many',\n",
       " 'ill',\n",
       " 'each other',\n",
       " 'run',\n",
       " 'child',\n",
       " 'stuff',\n",
       " 'genre',\n",
       " 'back to',\n",
       " 'kid',\n",
       " 'to take',\n",
       " 'thinking',\n",
       " 'i just',\n",
       " 'have seen',\n",
       " 'a bad',\n",
       " 'heard',\n",
       " 'ive seen',\n",
       " 'it i',\n",
       " 'hell',\n",
       " 'late',\n",
       " 'roles',\n",
       " 'i know',\n",
       " 'up with',\n",
       " 'and they',\n",
       " 'except',\n",
       " 'did not',\n",
       " 'hand',\n",
       " 'during the',\n",
       " 'cannot',\n",
       " 'in their',\n",
       " 'moment',\n",
       " 'killed',\n",
       " 'fight',\n",
       " 'wouldnt',\n",
       " 'living',\n",
       " 'when it',\n",
       " 'if the',\n",
       " 'happens',\n",
       " 'what the',\n",
       " 'matter',\n",
       " 'the entire',\n",
       " 'of an',\n",
       " 'better than',\n",
       " 'city',\n",
       " 'strong',\n",
       " 'what i',\n",
       " 'this show',\n",
       " 'with her',\n",
       " 'hour',\n",
       " 'extremely',\n",
       " 'a big',\n",
       " 'attempt',\n",
       " 'are a',\n",
       " 'special effects',\n",
       " 'obvious',\n",
       " 'played by',\n",
       " 'piece of',\n",
       " 'told',\n",
       " 'james',\n",
       " 'and in',\n",
       " 'in all',\n",
       " 'violence',\n",
       " 'involved',\n",
       " 'story of',\n",
       " 'particularly',\n",
       " 'and even',\n",
       " 'the one',\n",
       " 'based on',\n",
       " 'anyway',\n",
       " 'are not',\n",
       " 'what is',\n",
       " 'tries to',\n",
       " 'dont know',\n",
       " 'is about',\n",
       " 'i love',\n",
       " 'etc',\n",
       " 'film i',\n",
       " 'it the',\n",
       " 'even though',\n",
       " 'chance',\n",
       " 'please',\n",
       " 'lack',\n",
       " 'wonder',\n",
       " 'looked',\n",
       " 'happened',\n",
       " 'it all',\n",
       " 'complete',\n",
       " 'too much',\n",
       " 'save',\n",
       " 'itbr br',\n",
       " 'itbr',\n",
       " 'voice',\n",
       " 'try to',\n",
       " 'simple',\n",
       " 'instead of',\n",
       " 'coming',\n",
       " 'usually',\n",
       " 'as he',\n",
       " 'murder',\n",
       " 'group',\n",
       " 'alone',\n",
       " 'god',\n",
       " 'number',\n",
       " 'taken',\n",
       " 'movie the',\n",
       " 'exactly',\n",
       " 'people who',\n",
       " 'if it',\n",
       " 'br in',\n",
       " 'brother',\n",
       " 'age',\n",
       " 'br it',\n",
       " 'of its',\n",
       " 'i watched',\n",
       " 'was so',\n",
       " 'including',\n",
       " 'it in',\n",
       " 'about it',\n",
       " 'type',\n",
       " 'none',\n",
       " 'daughter',\n",
       " 'score',\n",
       " 'ok',\n",
       " 'lets',\n",
       " 'film the',\n",
       " 'happen',\n",
       " 'a man',\n",
       " 'she was',\n",
       " 'interest',\n",
       " 'shown',\n",
       " 'experience',\n",
       " 'even the',\n",
       " 'ends',\n",
       " 'annoying',\n",
       " 'whose',\n",
       " 'relationship',\n",
       " 'serious',\n",
       " 'slow',\n",
       " 'in it',\n",
       " 'who has',\n",
       " 'possible',\n",
       " 'i mean',\n",
       " 'and you',\n",
       " 'out the',\n",
       " 'sense of',\n",
       " 'known',\n",
       " 'a real',\n",
       " 'watching this',\n",
       " 'gore',\n",
       " 'finds',\n",
       " 'running',\n",
       " 'of these',\n",
       " 'seriously',\n",
       " 'somewhat',\n",
       " 'david',\n",
       " 'but not',\n",
       " 'br if',\n",
       " 'ago',\n",
       " 'usual',\n",
       " 'have the',\n",
       " 'im not',\n",
       " 'started',\n",
       " 'across',\n",
       " 'cinematography',\n",
       " 'movie but',\n",
       " 'huge',\n",
       " 'documentary',\n",
       " 'change',\n",
       " 'stop',\n",
       " 'musical',\n",
       " 'get the',\n",
       " 'saying',\n",
       " 'jokes',\n",
       " 'as if',\n",
       " 'wish',\n",
       " 'fan of',\n",
       " 'a young',\n",
       " 'the very',\n",
       " 'the beginning',\n",
       " 'reality',\n",
       " 'been a',\n",
       " ...]"
      ]
     },
     "execution_count": 198,
     "metadata": {},
     "output_type": "execute_result"
    }
   ],
   "source": [
    "text_vectorization.get_vocabulary()"
   ]
  },
  {
   "cell_type": "code",
   "execution_count": 199,
   "metadata": {},
   "outputs": [],
   "source": [
    "text_vectorization = TextVectorization(\n",
    "    ngrams=2,\n",
    "    max_tokens=20000,\n",
    "    output_mode=\"tf_idf\",\n",
    ")"
   ]
  },
  {
   "cell_type": "code",
   "execution_count": 200,
   "metadata": {},
   "outputs": [
    {
     "name": "stdout",
     "output_type": "stream",
     "text": [
      "Model: \"model_4\"\n",
      "_________________________________________________________________\n",
      " Layer (type)                Output Shape              Param #   \n",
      "=================================================================\n",
      " input_5 (InputLayer)        [(None, 20000)]           0         \n",
      "                                                                 \n",
      " dense_10 (Dense)            (None, 16)                320016    \n",
      "                                                                 \n",
      " dropout_9 (Dropout)         (None, 16)                0         \n",
      "                                                                 \n",
      " dense_11 (Dense)            (None, 1)                 17        \n",
      "                                                                 \n",
      "=================================================================\n",
      "Total params: 320,033\n",
      "Trainable params: 320,033\n",
      "Non-trainable params: 0\n",
      "_________________________________________________________________\n",
      "Epoch 1/10\n",
      "625/625 [==============================] - 2s 3ms/step - loss: 0.5174 - accuracy: 0.7587 - val_loss: 0.3340 - val_accuracy: 0.8768\n",
      "Epoch 2/10\n",
      "625/625 [==============================] - 4s 6ms/step - loss: 0.3873 - accuracy: 0.8410 - val_loss: 0.3318 - val_accuracy: 0.8716\n",
      "Epoch 3/10\n",
      "625/625 [==============================] - 4s 6ms/step - loss: 0.3308 - accuracy: 0.8623 - val_loss: 0.3282 - val_accuracy: 0.8678\n",
      "Epoch 4/10\n",
      "625/625 [==============================] - 3s 5ms/step - loss: 0.3138 - accuracy: 0.8699 - val_loss: 0.3203 - val_accuracy: 0.8740\n",
      "Epoch 5/10\n",
      "625/625 [==============================] - 3s 5ms/step - loss: 0.2868 - accuracy: 0.8857 - val_loss: 0.3340 - val_accuracy: 0.8830\n",
      "Epoch 6/10\n",
      "625/625 [==============================] - 3s 5ms/step - loss: 0.2638 - accuracy: 0.8969 - val_loss: 0.3383 - val_accuracy: 0.8724\n",
      "Epoch 7/10\n",
      "625/625 [==============================] - 4s 6ms/step - loss: 0.2477 - accuracy: 0.9010 - val_loss: 0.3321 - val_accuracy: 0.8750\n",
      "Epoch 8/10\n",
      "625/625 [==============================] - 4s 6ms/step - loss: 0.2361 - accuracy: 0.9073 - val_loss: 0.3679 - val_accuracy: 0.8858\n",
      "Epoch 9/10\n",
      "625/625 [==============================] - 3s 5ms/step - loss: 0.2329 - accuracy: 0.9126 - val_loss: 0.3372 - val_accuracy: 0.8788\n",
      "Epoch 10/10\n",
      "625/625 [==============================] - 4s 6ms/step - loss: 0.2203 - accuracy: 0.9162 - val_loss: 0.3631 - val_accuracy: 0.8784\n",
      "782/782 [==============================] - 1s 1ms/step - loss: 0.3190 - accuracy: 0.8809\n",
      "Test acc: 0.881\n"
     ]
    }
   ],
   "source": [
    "text_vectorization.adapt(text_only_train_ds)\n",
    " \n",
    "tfidf_2gram_train_ds = train_ds.map(\n",
    "    lambda x, y: (text_vectorization(x), y),\n",
    "    num_parallel_calls=4)\n",
    "tfidf_2gram_val_ds = val_ds.map(\n",
    "    lambda x, y: (text_vectorization(x), y),\n",
    "    num_parallel_calls=4)\n",
    "tfidf_2gram_test_ds = test_ds.map(\n",
    "    lambda x, y: (text_vectorization(x), y),\n",
    "    num_parallel_calls=4)\n",
    " \n",
    "model = get_model()\n",
    "model.summary()\n",
    "callbacks = [\n",
    "    keras.callbacks.ModelCheckpoint(\"tfidf_2gram.keras\",\n",
    "                                    save_best_only=True)\n",
    "]\n",
    "model.fit(tfidf_2gram_train_ds.cache(),\n",
    "          validation_data=tfidf_2gram_val_ds.cache(),\n",
    "          epochs=10,\n",
    "          callbacks=callbacks)\n",
    "model = keras.models.load_model(\"tfidf_2gram.keras\")\n",
    "print(f\"Test acc: {model.evaluate(tfidf_2gram_test_ds)[1]:.3f}\")"
   ]
  },
  {
   "cell_type": "code",
   "execution_count": 201,
   "metadata": {},
   "outputs": [],
   "source": [
    "inputs = keras.Input(shape=(1,), dtype=\"string\")\n",
    "processed_inputs = text_vectorization(inputs)\n",
    "outputs = model(processed_inputs)\n",
    "inference_model = keras.Model(inputs, outputs)"
   ]
  },
  {
   "cell_type": "code",
   "execution_count": 204,
   "metadata": {},
   "outputs": [
    {
     "name": "stdout",
     "output_type": "stream",
     "text": [
      "39.87 percent positive\n"
     ]
    }
   ],
   "source": [
    "import tensorflow as tf\n",
    "raw_text_data = tf.convert_to_tensor([\n",
    "    [\"That was an excellent movie, I loved it.\"],\n",
    "    [\"That movie really sucked!\"]\n",
    "])\n",
    "predictions = inference_model(raw_text_data) \n",
    "print(f\"{float(predictions[1] * 100):.2f} percent positive\")"
   ]
  },
  {
   "cell_type": "code",
   "execution_count": 3,
   "metadata": {},
   "outputs": [],
   "source": [
    "from tensorflow.keras import layers\n",
    "  \n",
    "max_length = 600 \n",
    "max_tokens = 20000 \n",
    "text_vectorization = layers.TextVectorization(\n",
    "    max_tokens=max_tokens,\n",
    "    output_mode=\"int\",\n",
    "    output_sequence_length=max_length,\n",
    ")\n",
    "text_vectorization.adapt(text_only_train_ds)\n",
    " \n",
    "int_train_ds = train_ds.map(\n",
    "    lambda x, y: (text_vectorization(x), y),\n",
    "    num_parallel_calls=4)\n",
    "int_val_ds = val_ds.map(\n",
    "    lambda x, y: (text_vectorization(x), y),\n",
    "    num_parallel_calls=4)\n",
    "int_test_ds = test_ds.map(\n",
    "    lambda x, y: (text_vectorization(x), y),\n",
    "    num_parallel_calls=4)"
   ]
  },
  {
   "cell_type": "code",
   "execution_count": 206,
   "metadata": {},
   "outputs": [
    {
     "name": "stdout",
     "output_type": "stream",
     "text": [
      "Model: \"model_6\"\n",
      "_________________________________________________________________\n",
      " Layer (type)                Output Shape              Param #   \n",
      "=================================================================\n",
      " input_7 (InputLayer)        [(None, None)]            0         \n",
      "                                                                 \n",
      " tf.one_hot (TFOpLambda)     (None, None, 20000)       0         \n",
      "                                                                 \n",
      " bidirectional (Bidirectiona  (None, 64)               5128448   \n",
      " l)                                                              \n",
      "                                                                 \n",
      " dropout_10 (Dropout)        (None, 64)                0         \n",
      "                                                                 \n",
      " dense_12 (Dense)            (None, 1)                 65        \n",
      "                                                                 \n",
      "=================================================================\n",
      "Total params: 5,128,513\n",
      "Trainable params: 5,128,513\n",
      "Non-trainable params: 0\n",
      "_________________________________________________________________\n"
     ]
    }
   ],
   "source": [
    "import tensorflow as tf\n",
    "inputs = keras.Input(shape=(None,), dtype=\"int64\")\n",
    "embedded = tf.one_hot(inputs, depth=max_tokens)\n",
    "x = layers.Bidirectional(layers.LSTM(32))(embedded)\n",
    "x = layers.Dropout(0.5)(x) \n",
    "outputs = layers.Dense(1, activation=\"sigmoid\")(x)\n",
    "model = keras.Model(inputs, outputs)\n",
    "model.compile(optimizer=\"rmsprop\",\n",
    "              loss=\"binary_crossentropy\",\n",
    "              metrics=[\"accuracy\"])\n",
    "model.summary()"
   ]
  },
  {
   "cell_type": "code",
   "execution_count": 207,
   "metadata": {},
   "outputs": [
    {
     "name": "stdout",
     "output_type": "stream",
     "text": [
      "Epoch 1/10\n",
      "  1/625 [..............................] - ETA: 15:30 - loss: 0.6916 - accuracy: 0.6562"
     ]
    },
    {
     "name": "stderr",
     "output_type": "stream",
     "text": [
      "2022-10-29 04:48:47.506752: I tensorflow/stream_executor/cuda/cuda_dnn.cc:384] Loaded cuDNN version 8100\n"
     ]
    },
    {
     "name": "stdout",
     "output_type": "stream",
     "text": [
      "625/625 [==============================] - 48s 74ms/step - loss: 0.5194 - accuracy: 0.7600 - val_loss: 0.3608 - val_accuracy: 0.8602\n",
      "Epoch 2/10\n",
      "625/625 [==============================] - 46s 74ms/step - loss: 0.3526 - accuracy: 0.8720 - val_loss: 0.3522 - val_accuracy: 0.8644\n",
      "Epoch 3/10\n",
      "625/625 [==============================] - 47s 75ms/step - loss: 0.2711 - accuracy: 0.9040 - val_loss: 0.9172 - val_accuracy: 0.8024\n",
      "Epoch 4/10\n",
      "625/625 [==============================] - 47s 75ms/step - loss: 0.2356 - accuracy: 0.9207 - val_loss: 0.2953 - val_accuracy: 0.8804\n",
      "Epoch 5/10\n",
      "625/625 [==============================] - 46s 74ms/step - loss: 0.2102 - accuracy: 0.9297 - val_loss: 0.3033 - val_accuracy: 0.8772\n",
      "Epoch 6/10\n",
      "625/625 [==============================] - 46s 74ms/step - loss: 0.1790 - accuracy: 0.9412 - val_loss: 0.3506 - val_accuracy: 0.8804\n",
      "Epoch 7/10\n",
      "625/625 [==============================] - 46s 74ms/step - loss: 0.1526 - accuracy: 0.9503 - val_loss: 0.3124 - val_accuracy: 0.8866\n",
      "Epoch 8/10\n",
      "625/625 [==============================] - 46s 74ms/step - loss: 0.1435 - accuracy: 0.9539 - val_loss: 0.3578 - val_accuracy: 0.8842\n",
      "Epoch 9/10\n",
      "625/625 [==============================] - 46s 74ms/step - loss: 0.1327 - accuracy: 0.9589 - val_loss: 0.3947 - val_accuracy: 0.8692\n",
      "Epoch 10/10\n",
      "625/625 [==============================] - 47s 75ms/step - loss: 0.1156 - accuracy: 0.9639 - val_loss: 0.3378 - val_accuracy: 0.8742\n",
      "782/782 [==============================] - 31s 39ms/step - loss: 0.3068 - accuracy: 0.8794\n",
      "Test acc: 0.879\n"
     ]
    }
   ],
   "source": [
    "callbacks = [\n",
    "    keras.callbacks.ModelCheckpoint(\"one_hot_bidir_lstm.keras\",\n",
    "                                    save_best_only=True)\n",
    "]\n",
    "model.fit(int_train_ds, validation_data=int_val_ds, epochs=10,\n",
    "          callbacks=callbacks)\n",
    "model = keras.models.load_model(\"one_hot_bidir_lstm.keras\") \n",
    "print(f\"Test acc: {model.evaluate(int_test_ds)[1]:.3f}\")"
   ]
  },
  {
   "cell_type": "code",
   "execution_count": 208,
   "metadata": {},
   "outputs": [
    {
     "name": "stdout",
     "output_type": "stream",
     "text": [
      "Model: \"model_7\"\n",
      "_________________________________________________________________\n",
      " Layer (type)                Output Shape              Param #   \n",
      "=================================================================\n",
      " input_8 (InputLayer)        [(None, None)]            0         \n",
      "                                                                 \n",
      " embedding (Embedding)       (None, None, 256)         5120000   \n",
      "                                                                 \n",
      " bidirectional_1 (Bidirectio  (None, 64)               73984     \n",
      " nal)                                                            \n",
      "                                                                 \n",
      " dropout_11 (Dropout)        (None, 64)                0         \n",
      "                                                                 \n",
      " dense_13 (Dense)            (None, 1)                 65        \n",
      "                                                                 \n",
      "=================================================================\n",
      "Total params: 5,194,049\n",
      "Trainable params: 5,194,049\n",
      "Non-trainable params: 0\n",
      "_________________________________________________________________\n",
      "Epoch 1/10\n",
      "625/625 [==============================] - 31s 48ms/step - loss: 0.4763 - accuracy: 0.7836 - val_loss: 0.3499 - val_accuracy: 0.8610\n",
      "Epoch 2/10\n",
      "625/625 [==============================] - 30s 49ms/step - loss: 0.2990 - accuracy: 0.8921 - val_loss: 0.3095 - val_accuracy: 0.8806\n",
      "Epoch 3/10\n",
      "625/625 [==============================] - 32s 51ms/step - loss: 0.2366 - accuracy: 0.9156 - val_loss: 0.3106 - val_accuracy: 0.8832\n",
      "Epoch 4/10\n",
      "625/625 [==============================] - 32s 51ms/step - loss: 0.1958 - accuracy: 0.9313 - val_loss: 0.3433 - val_accuracy: 0.8754\n",
      "Epoch 5/10\n",
      "625/625 [==============================] - 31s 49ms/step - loss: 0.1673 - accuracy: 0.9456 - val_loss: 0.3090 - val_accuracy: 0.8840\n",
      "Epoch 6/10\n",
      "625/625 [==============================] - 30s 48ms/step - loss: 0.1441 - accuracy: 0.9527 - val_loss: 0.4009 - val_accuracy: 0.8752\n",
      "Epoch 7/10\n",
      "625/625 [==============================] - 30s 48ms/step - loss: 0.1212 - accuracy: 0.9610 - val_loss: 0.4439 - val_accuracy: 0.8774\n",
      "Epoch 8/10\n",
      "625/625 [==============================] - 31s 49ms/step - loss: 0.0993 - accuracy: 0.9699 - val_loss: 0.4421 - val_accuracy: 0.8758\n",
      "Epoch 9/10\n",
      "625/625 [==============================] - 24s 38ms/step - loss: 0.0850 - accuracy: 0.9729 - val_loss: 0.4558 - val_accuracy: 0.8792\n",
      "Epoch 10/10\n",
      "625/625 [==============================] - 24s 39ms/step - loss: 0.0721 - accuracy: 0.9779 - val_loss: 0.3827 - val_accuracy: 0.8678\n",
      "782/782 [==============================] - 15s 18ms/step - loss: 0.3652 - accuracy: 0.8630\n",
      "Test acc: 0.863\n"
     ]
    }
   ],
   "source": [
    "inputs = keras.Input(shape=(None,), dtype=\"int64\")\n",
    "embedded = layers.Embedding(input_dim=max_tokens, output_dim=256)(inputs)\n",
    "x = layers.Bidirectional(layers.LSTM(32))(embedded)\n",
    "x = layers.Dropout(0.5)(x)\n",
    "outputs = layers.Dense(1, activation=\"sigmoid\")(x)\n",
    "model = keras.Model(inputs, outputs)\n",
    "model.compile(optimizer=\"rmsprop\",\n",
    "              loss=\"binary_crossentropy\",\n",
    "              metrics=[\"accuracy\"])\n",
    "model.summary()\n",
    "  \n",
    "callbacks = [\n",
    "    keras.callbacks.ModelCheckpoint(\"embeddings_bidir_gru.keras\",\n",
    "                                    save_best_only=True)\n",
    "]\n",
    "model.fit(int_train_ds, validation_data=int_val_ds, epochs=10,\n",
    "          callbacks=callbacks)\n",
    "model = keras.models.load_model(\"embeddings_bidir_gru.keras\") \n",
    "print(f\"Test acc: {model.evaluate(int_test_ds)[1]:.3f}\")"
   ]
  },
  {
   "cell_type": "code",
   "execution_count": 209,
   "metadata": {},
   "outputs": [
    {
     "name": "stdout",
     "output_type": "stream",
     "text": [
      "Model: \"model_8\"\n",
      "_________________________________________________________________\n",
      " Layer (type)                Output Shape              Param #   \n",
      "=================================================================\n",
      " input_9 (InputLayer)        [(None, None)]            0         \n",
      "                                                                 \n",
      " embedding_1 (Embedding)     (None, None, 256)         5120000   \n",
      "                                                                 \n",
      " bidirectional_2 (Bidirectio  (None, 64)               73984     \n",
      " nal)                                                            \n",
      "                                                                 \n",
      " dropout_12 (Dropout)        (None, 64)                0         \n",
      "                                                                 \n",
      " dense_14 (Dense)            (None, 1)                 65        \n",
      "                                                                 \n",
      "=================================================================\n",
      "Total params: 5,194,049\n",
      "Trainable params: 5,194,049\n",
      "Non-trainable params: 0\n",
      "_________________________________________________________________\n",
      "Epoch 1/10\n"
     ]
    },
    {
     "name": "stderr",
     "output_type": "stream",
     "text": [
      "2022-10-30 03:42:16.524477: W tensorflow/core/common_runtime/forward_type_inference.cc:332] Type inference failed. This indicates an invalid graph that escaped type checking. Error message: INVALID_ARGUMENT: expected compatible input types, but input 1:\n",
      "type_id: TFT_OPTIONAL\n",
      "args {\n",
      "  type_id: TFT_PRODUCT\n",
      "  args {\n",
      "    type_id: TFT_TENSOR\n",
      "    args {\n",
      "      type_id: TFT_INT32\n",
      "    }\n",
      "  }\n",
      "}\n",
      " is neither a subtype nor a supertype of the combined inputs preceding it:\n",
      "type_id: TFT_OPTIONAL\n",
      "args {\n",
      "  type_id: TFT_PRODUCT\n",
      "  args {\n",
      "    type_id: TFT_TENSOR\n",
      "    args {\n",
      "      type_id: TFT_FLOAT\n",
      "    }\n",
      "  }\n",
      "}\n",
      "\n",
      "\twhile inferring type of node 'cond_40/output/_23'\n"
     ]
    },
    {
     "name": "stdout",
     "output_type": "stream",
     "text": [
      "625/625 [==============================] - 37s 55ms/step - loss: 0.4010 - accuracy: 0.8181 - val_loss: 0.2786 - val_accuracy: 0.8830\n",
      "Epoch 2/10\n",
      "625/625 [==============================] - 33s 54ms/step - loss: 0.2350 - accuracy: 0.9104 - val_loss: 0.2870 - val_accuracy: 0.8860\n",
      "Epoch 3/10\n",
      "625/625 [==============================] - 34s 55ms/step - loss: 0.1700 - accuracy: 0.9381 - val_loss: 0.2866 - val_accuracy: 0.8920\n",
      "Epoch 4/10\n",
      "625/625 [==============================] - 33s 53ms/step - loss: 0.1274 - accuracy: 0.9549 - val_loss: 0.3190 - val_accuracy: 0.8760\n",
      "Epoch 5/10\n",
      "625/625 [==============================] - 35s 55ms/step - loss: 0.0995 - accuracy: 0.9668 - val_loss: 0.3940 - val_accuracy: 0.8764\n",
      "Epoch 6/10\n",
      "625/625 [==============================] - 35s 56ms/step - loss: 0.0759 - accuracy: 0.9742 - val_loss: 0.3766 - val_accuracy: 0.8910\n",
      "Epoch 7/10\n",
      "625/625 [==============================] - 34s 55ms/step - loss: 0.0556 - accuracy: 0.9817 - val_loss: 0.4175 - val_accuracy: 0.8808\n",
      "Epoch 8/10\n",
      "625/625 [==============================] - 34s 55ms/step - loss: 0.0394 - accuracy: 0.9872 - val_loss: 0.4668 - val_accuracy: 0.8792\n",
      "Epoch 9/10\n",
      "625/625 [==============================] - 34s 54ms/step - loss: 0.0299 - accuracy: 0.9906 - val_loss: 0.4836 - val_accuracy: 0.8832\n",
      "Epoch 10/10\n",
      "625/625 [==============================] - 33s 53ms/step - loss: 0.0227 - accuracy: 0.9931 - val_loss: 0.4971 - val_accuracy: 0.8786\n",
      "782/782 [==============================] - 19s 23ms/step - loss: 0.2898 - accuracy: 0.8808\n",
      "Test acc: 0.881\n"
     ]
    }
   ],
   "source": [
    "inputs = keras.Input(shape=(None,), dtype=\"int64\")\n",
    "embedded = layers.Embedding(\n",
    "    input_dim=max_tokens, output_dim=256, mask_zero=True)(inputs)\n",
    "x = layers.Bidirectional(layers.LSTM(32))(embedded)\n",
    "x = layers.Dropout(0.5)(x)\n",
    "outputs = layers.Dense(1, activation=\"sigmoid\")(x)\n",
    "model = keras.Model(inputs, outputs)\n",
    "model.compile(optimizer=\"rmsprop\",\n",
    "              loss=\"binary_crossentropy\",\n",
    "              metrics=[\"accuracy\"])\n",
    "model.summary()\n",
    "callbacks = [\n",
    "    keras.callbacks.ModelCheckpoint(\"embeddings_bidir_gru_with_masking.keras\",\n",
    "                                    save_best_only=True)\n",
    "]\n",
    "model.fit(int_train_ds, validation_data=int_val_ds, epochs=10,\n",
    "          callbacks=callbacks)\n",
    "model = keras.models.load_model(\"embeddings_bidir_gru_with_masking.keras\") \n",
    "print(f\"Test acc: {model.evaluate(int_test_ds)[1]:.3f}\")"
   ]
  },
  {
   "cell_type": "code",
   "execution_count": 6,
   "metadata": {},
   "outputs": [
    {
     "name": "stdout",
     "output_type": "stream",
     "text": [
      "Found 400000 word vectors.\n"
     ]
    }
   ],
   "source": [
    "import numpy as np\n",
    "path_to_glove_file = \"glove.6B.100d.txt\" \n",
    "  \n",
    "embeddings_index = {} \n",
    "with open(path_to_glove_file) as f:\n",
    "    for line in f:\n",
    "        word, coefs = line.split(maxsplit=1)\n",
    "        coefs = np.fromstring(coefs, \"f\", sep=\" \")\n",
    "        embeddings_index[word] = coefs\n",
    "  \n",
    "print(f\"Found {len(embeddings_index)} word vectors.\")"
   ]
  },
  {
   "cell_type": "code",
   "execution_count": 7,
   "metadata": {},
   "outputs": [
    {
     "data": {
      "text/plain": [
       "array([-2.7382e-01, -2.8050e-01,  1.0621e+00,  2.8245e-01,  3.1069e-01,\n",
       "       -3.3026e-01,  2.7613e-02,  3.5891e-01, -4.3318e-02,  2.6344e-01,\n",
       "       -1.3780e-01,  1.4300e-01,  6.9496e-01,  4.8996e-01,  1.5001e-03,\n",
       "       -4.1903e-01, -1.1194e-01, -9.1214e-01, -7.9896e-01, -3.4791e-01,\n",
       "        6.0311e-01,  8.1101e-01,  8.7302e-01, -2.4191e-01,  1.8891e-01,\n",
       "       -5.2116e-02,  2.4466e-01,  8.7903e-02,  2.5312e-01,  1.0033e-01,\n",
       "       -5.0650e-01,  4.8329e-01,  2.9290e-02,  3.1287e-01, -2.3351e-02,\n",
       "       -2.2463e-01,  2.8255e-01, -8.6472e-02,  9.1342e-02,  3.3247e-01,\n",
       "       -8.7454e-01, -8.1585e-01, -1.8947e-02, -5.1873e-01,  6.8525e-01,\n",
       "        1.8370e-01,  1.0631e+00, -2.2301e-01, -1.8461e-02,  4.0175e-01,\n",
       "       -3.4234e-01,  2.3310e-01,  6.4983e-02,  2.8685e-01, -3.9582e-01,\n",
       "       -2.6820e+00, -5.7566e-01, -9.1176e-01,  1.4487e+00, -8.9672e-02,\n",
       "       -7.4737e-01,  7.5713e-01, -8.8766e-02, -5.6684e-01,  6.7291e-01,\n",
       "        1.7928e-01,  2.1347e-01,  4.5381e-01,  3.5673e-01, -1.7827e-02,\n",
       "        2.6821e-02, -5.5441e-01, -4.3039e-01, -9.1360e-01,  5.1976e-01,\n",
       "       -5.8378e-01,  4.5838e-02,  1.1119e+00, -3.9245e-01, -3.0061e-01,\n",
       "        4.3445e-01,  1.0138e+00, -4.6549e-01,  4.7333e-01, -3.4602e-01,\n",
       "        4.4440e-01, -7.1984e-01, -8.0924e-01,  1.2747e+00,  9.2491e-02,\n",
       "       -1.6756e-01, -2.7904e-01, -2.1013e-01,  2.9258e-01, -1.1369e+00,\n",
       "        4.1264e-01,  2.0179e-02,  3.6399e-01,  1.0712e+00,  5.2088e-01],\n",
       "      dtype=float32)"
      ]
     },
     "execution_count": 7,
     "metadata": {},
     "output_type": "execute_result"
    }
   ],
   "source": [
    "embeddings_index['east']"
   ]
  },
  {
   "cell_type": "code",
   "execution_count": 8,
   "metadata": {},
   "outputs": [],
   "source": [
    "embedding_dim = 100\n",
    "\n",
    "vocabulary = text_vectorization.get_vocabulary()\n",
    "word_index = dict(zip(vocabulary, range(len(vocabulary))))\n",
    "\n",
    "embedding_matrix = np.zeros((max_tokens, embedding_dim))\n",
    "for word, i in word_index.items():\n",
    "    if i < max_tokens:\n",
    "        embedding_vector = embeddings_index.get(word)\n",
    "    if embedding_vector is not None:\n",
    "        embedding_matrix[i] = embedding_vector"
   ]
  },
  {
   "cell_type": "code",
   "execution_count": 9,
   "metadata": {},
   "outputs": [],
   "source": [
    "embedding_layer = keras.layers.Embedding(\n",
    "    max_tokens, \n",
    "    embedding_dim, \n",
    "    embeddings_initializer=keras.initializers.Constant(embedding_matrix),\n",
    "    trainable=False,\n",
    "    mask_zero=True)"
   ]
  },
  {
   "cell_type": "code",
   "execution_count": 12,
   "metadata": {},
   "outputs": [
    {
     "name": "stdout",
     "output_type": "stream",
     "text": [
      "Model: \"model_2\"\n",
      "_________________________________________________________________\n",
      " Layer (type)                Output Shape              Param #   \n",
      "=================================================================\n",
      " input_4 (InputLayer)        [(None, None)]            0         \n",
      "                                                                 \n",
      " embedding (Embedding)       (None, None, 100)         2000000   \n",
      "                                                                 \n",
      " bidirectional_2 (Bidirectio  (None, 64)               34048     \n",
      " nal)                                                            \n",
      "                                                                 \n",
      " dropout_2 (Dropout)         (None, 64)                0         \n",
      "                                                                 \n",
      " dense_2 (Dense)             (None, 1)                 65        \n",
      "                                                                 \n",
      "=================================================================\n",
      "Total params: 2,034,113\n",
      "Trainable params: 34,113\n",
      "Non-trainable params: 2,000,000\n",
      "_________________________________________________________________\n",
      "Epoch 1/10\n"
     ]
    },
    {
     "name": "stderr",
     "output_type": "stream",
     "text": [
      "2022-10-30 06:03:29.369924: E tensorflow/stream_executor/cuda/cuda_dnn.cc:389] Could not create cudnn handle: CUDNN_STATUS_INTERNAL_ERROR\n",
      "2022-10-30 06:03:29.369958: W tensorflow/core/framework/op_kernel.cc:1780] OP_REQUIRES failed at cudnn_rnn_ops.cc:1554 : UNKNOWN: Fail to find the dnn implementation.\n"
     ]
    },
    {
     "ename": "UnknownError",
     "evalue": "Graph execution error:\n\nDetected at node 'cond/CudnnRNNV3' defined at (most recent call last):\n    File \"/home/rayed/anaconda3/envs/tf/lib/python3.9/runpy.py\", line 197, in _run_module_as_main\n      return _run_code(code, main_globals, None,\n    File \"/home/rayed/anaconda3/envs/tf/lib/python3.9/runpy.py\", line 87, in _run_code\n      exec(code, run_globals)\n    File \"/home/rayed/anaconda3/envs/tf/lib/python3.9/site-packages/ipykernel_launcher.py\", line 17, in <module>\n      app.launch_new_instance()\n    File \"/home/rayed/anaconda3/envs/tf/lib/python3.9/site-packages/traitlets/config/application.py\", line 982, in launch_instance\n      app.start()\n    File \"/home/rayed/anaconda3/envs/tf/lib/python3.9/site-packages/ipykernel/kernelapp.py\", line 712, in start\n      self.io_loop.start()\n    File \"/home/rayed/anaconda3/envs/tf/lib/python3.9/site-packages/tornado/platform/asyncio.py\", line 215, in start\n      self.asyncio_loop.run_forever()\n    File \"/home/rayed/anaconda3/envs/tf/lib/python3.9/asyncio/base_events.py\", line 601, in run_forever\n      self._run_once()\n    File \"/home/rayed/anaconda3/envs/tf/lib/python3.9/asyncio/base_events.py\", line 1905, in _run_once\n      handle._run()\n    File \"/home/rayed/anaconda3/envs/tf/lib/python3.9/asyncio/events.py\", line 80, in _run\n      self._context.run(self._callback, *self._args)\n    File \"/home/rayed/anaconda3/envs/tf/lib/python3.9/site-packages/ipykernel/kernelbase.py\", line 510, in dispatch_queue\n      await self.process_one()\n    File \"/home/rayed/anaconda3/envs/tf/lib/python3.9/site-packages/ipykernel/kernelbase.py\", line 499, in process_one\n      await dispatch(*args)\n    File \"/home/rayed/anaconda3/envs/tf/lib/python3.9/site-packages/ipykernel/kernelbase.py\", line 406, in dispatch_shell\n      await result\n    File \"/home/rayed/anaconda3/envs/tf/lib/python3.9/site-packages/ipykernel/kernelbase.py\", line 730, in execute_request\n      reply_content = await reply_content\n    File \"/home/rayed/anaconda3/envs/tf/lib/python3.9/site-packages/ipykernel/ipkernel.py\", line 383, in do_execute\n      res = shell.run_cell(\n    File \"/home/rayed/anaconda3/envs/tf/lib/python3.9/site-packages/ipykernel/zmqshell.py\", line 528, in run_cell\n      return super().run_cell(*args, **kwargs)\n    File \"/home/rayed/anaconda3/envs/tf/lib/python3.9/site-packages/IPython/core/interactiveshell.py\", line 2885, in run_cell\n      result = self._run_cell(\n    File \"/home/rayed/anaconda3/envs/tf/lib/python3.9/site-packages/IPython/core/interactiveshell.py\", line 2940, in _run_cell\n      return runner(coro)\n    File \"/home/rayed/anaconda3/envs/tf/lib/python3.9/site-packages/IPython/core/async_helpers.py\", line 129, in _pseudo_sync_runner\n      coro.send(None)\n    File \"/home/rayed/anaconda3/envs/tf/lib/python3.9/site-packages/IPython/core/interactiveshell.py\", line 3139, in run_cell_async\n      has_raised = await self.run_ast_nodes(code_ast.body, cell_name,\n    File \"/home/rayed/anaconda3/envs/tf/lib/python3.9/site-packages/IPython/core/interactiveshell.py\", line 3318, in run_ast_nodes\n      if await self.run_code(code, result, async_=asy):\n    File \"/home/rayed/anaconda3/envs/tf/lib/python3.9/site-packages/IPython/core/interactiveshell.py\", line 3378, in run_code\n      exec(code_obj, self.user_global_ns, self.user_ns)\n    File \"/tmp/ipykernel_755020/3020009550.py\", line 16, in <module>\n      model.fit(int_train_ds, validation_data=int_val_ds, epochs=10,\n    File \"/home/rayed/anaconda3/envs/tf/lib/python3.9/site-packages/keras/utils/traceback_utils.py\", line 65, in error_handler\n      return fn(*args, **kwargs)\n    File \"/home/rayed/anaconda3/envs/tf/lib/python3.9/site-packages/keras/engine/training.py\", line 1564, in fit\n      tmp_logs = self.train_function(iterator)\n    File \"/home/rayed/anaconda3/envs/tf/lib/python3.9/site-packages/keras/engine/training.py\", line 1160, in train_function\n      return step_function(self, iterator)\n    File \"/home/rayed/anaconda3/envs/tf/lib/python3.9/site-packages/keras/engine/training.py\", line 1146, in step_function\n      outputs = model.distribute_strategy.run(run_step, args=(data,))\n    File \"/home/rayed/anaconda3/envs/tf/lib/python3.9/site-packages/keras/engine/training.py\", line 1135, in run_step\n      outputs = model.train_step(data)\n    File \"/home/rayed/anaconda3/envs/tf/lib/python3.9/site-packages/keras/engine/training.py\", line 993, in train_step\n      y_pred = self(x, training=True)\n    File \"/home/rayed/anaconda3/envs/tf/lib/python3.9/site-packages/keras/utils/traceback_utils.py\", line 65, in error_handler\n      return fn(*args, **kwargs)\n    File \"/home/rayed/anaconda3/envs/tf/lib/python3.9/site-packages/keras/engine/training.py\", line 557, in __call__\n      return super().__call__(*args, **kwargs)\n    File \"/home/rayed/anaconda3/envs/tf/lib/python3.9/site-packages/keras/utils/traceback_utils.py\", line 65, in error_handler\n      return fn(*args, **kwargs)\n    File \"/home/rayed/anaconda3/envs/tf/lib/python3.9/site-packages/keras/engine/base_layer.py\", line 1097, in __call__\n      outputs = call_fn(inputs, *args, **kwargs)\n    File \"/home/rayed/anaconda3/envs/tf/lib/python3.9/site-packages/keras/utils/traceback_utils.py\", line 96, in error_handler\n      return fn(*args, **kwargs)\n    File \"/home/rayed/anaconda3/envs/tf/lib/python3.9/site-packages/keras/engine/functional.py\", line 510, in call\n      return self._run_internal_graph(inputs, training=training, mask=mask)\n    File \"/home/rayed/anaconda3/envs/tf/lib/python3.9/site-packages/keras/engine/functional.py\", line 667, in _run_internal_graph\n      outputs = node.layer(*args, **kwargs)\n    File \"/home/rayed/anaconda3/envs/tf/lib/python3.9/site-packages/keras/layers/rnn/bidirectional.py\", line 277, in __call__\n      return super().__call__(inputs, **kwargs)\n    File \"/home/rayed/anaconda3/envs/tf/lib/python3.9/site-packages/keras/utils/traceback_utils.py\", line 65, in error_handler\n      return fn(*args, **kwargs)\n    File \"/home/rayed/anaconda3/envs/tf/lib/python3.9/site-packages/keras/engine/base_layer.py\", line 1097, in __call__\n      outputs = call_fn(inputs, *args, **kwargs)\n    File \"/home/rayed/anaconda3/envs/tf/lib/python3.9/site-packages/keras/utils/traceback_utils.py\", line 96, in error_handler\n      return fn(*args, **kwargs)\n    File \"/home/rayed/anaconda3/envs/tf/lib/python3.9/site-packages/keras/layers/rnn/bidirectional.py\", line 404, in call\n      y = self.forward_layer(\n    File \"/home/rayed/anaconda3/envs/tf/lib/python3.9/site-packages/keras/layers/rnn/base_rnn.py\", line 553, in __call__\n      return super().__call__(inputs, **kwargs)\n    File \"/home/rayed/anaconda3/envs/tf/lib/python3.9/site-packages/keras/utils/traceback_utils.py\", line 65, in error_handler\n      return fn(*args, **kwargs)\n    File \"/home/rayed/anaconda3/envs/tf/lib/python3.9/site-packages/keras/engine/base_layer.py\", line 1097, in __call__\n      outputs = call_fn(inputs, *args, **kwargs)\n    File \"/home/rayed/anaconda3/envs/tf/lib/python3.9/site-packages/keras/utils/traceback_utils.py\", line 96, in error_handler\n      return fn(*args, **kwargs)\n    File \"/home/rayed/anaconda3/envs/tf/lib/python3.9/site-packages/keras/layers/rnn/lstm.py\", line 751, in call\n      ) = lstm_with_backend_selection(**normal_lstm_kwargs)\n    File \"/home/rayed/anaconda3/envs/tf/lib/python3.9/site-packages/keras/layers/rnn/lstm.py\", line 1356, in lstm_with_backend_selection\n      gru_lstm_utils.function_register(defun_gpu_lstm, **params)\n    File \"/home/rayed/anaconda3/envs/tf/lib/python3.9/site-packages/keras/layers/rnn/gru_lstm_utils.py\", line 257, in function_register\n      concrete_func = func.get_concrete_function(*args, **kwargs)\n    File \"/home/rayed/anaconda3/envs/tf/lib/python3.9/site-packages/keras/layers/rnn/lstm.py\", line 1305, in gpu_lstm_with_fallback\n      return tf.cond(\n    File \"/home/rayed/anaconda3/envs/tf/lib/python3.9/site-packages/keras/layers/rnn/lstm.py\", line 1275, in cudnn_lstm_fn\n      return gpu_lstm(\n    File \"/home/rayed/anaconda3/envs/tf/lib/python3.9/site-packages/keras/layers/rnn/lstm.py\", line 1115, in gpu_lstm\n      outputs, h, c, _, _ = tf.raw_ops.CudnnRNNV3(\nNode: 'cond/CudnnRNNV3'\nFail to find the dnn implementation.\n\t [[{{node cond/CudnnRNNV3}}]]\n\t [[model_2/bidirectional_2/forward_lstm_2/PartitionedCall]] [Op:__inference_train_function_45346]",
     "output_type": "error",
     "traceback": [
      "\u001b[0;31m---------------------------------------------------------------------------\u001b[0m",
      "\u001b[0;31mUnknownError\u001b[0m                              Traceback (most recent call last)",
      "Cell \u001b[0;32mIn [12], line 16\u001b[0m\n\u001b[1;32m     10\u001b[0m model\u001b[39m.\u001b[39msummary()\n\u001b[1;32m     12\u001b[0m callbacks \u001b[39m=\u001b[39m [\n\u001b[1;32m     13\u001b[0m     keras\u001b[39m.\u001b[39mcallbacks\u001b[39m.\u001b[39mModelCheckpoint(\u001b[39m\"\u001b[39m\u001b[39mglove_embeddings_sequence_model.keras\u001b[39m\u001b[39m\"\u001b[39m,\n\u001b[1;32m     14\u001b[0m                                     save_best_only\u001b[39m=\u001b[39m\u001b[39mTrue\u001b[39;00m)\n\u001b[1;32m     15\u001b[0m ]\n\u001b[0;32m---> 16\u001b[0m model\u001b[39m.\u001b[39;49mfit(int_train_ds, validation_data\u001b[39m=\u001b[39;49mint_val_ds, epochs\u001b[39m=\u001b[39;49m\u001b[39m10\u001b[39;49m,\n\u001b[1;32m     17\u001b[0m           callbacks\u001b[39m=\u001b[39;49mcallbacks)\n\u001b[1;32m     18\u001b[0m model \u001b[39m=\u001b[39m keras\u001b[39m.\u001b[39mmodels\u001b[39m.\u001b[39mload_model(\u001b[39m\"\u001b[39m\u001b[39mglove_embeddings_sequence_model.keras\u001b[39m\u001b[39m\"\u001b[39m)\n\u001b[1;32m     19\u001b[0m \u001b[39mprint\u001b[39m(\u001b[39mf\u001b[39m\u001b[39m\"\u001b[39m\u001b[39mTest acc: \u001b[39m\u001b[39m{\u001b[39;00mmodel\u001b[39m.\u001b[39mevaluate(int_test_ds)[\u001b[39m1\u001b[39m]\u001b[39m:\u001b[39;00m\u001b[39m.3f\u001b[39m\u001b[39m}\u001b[39;00m\u001b[39m\"\u001b[39m)\n",
      "File \u001b[0;32m~/anaconda3/envs/tf/lib/python3.9/site-packages/keras/utils/traceback_utils.py:70\u001b[0m, in \u001b[0;36mfilter_traceback.<locals>.error_handler\u001b[0;34m(*args, **kwargs)\u001b[0m\n\u001b[1;32m     67\u001b[0m     filtered_tb \u001b[39m=\u001b[39m _process_traceback_frames(e\u001b[39m.\u001b[39m__traceback__)\n\u001b[1;32m     68\u001b[0m     \u001b[39m# To get the full stack trace, call:\u001b[39;00m\n\u001b[1;32m     69\u001b[0m     \u001b[39m# `tf.debugging.disable_traceback_filtering()`\u001b[39;00m\n\u001b[0;32m---> 70\u001b[0m     \u001b[39mraise\u001b[39;00m e\u001b[39m.\u001b[39mwith_traceback(filtered_tb) \u001b[39mfrom\u001b[39;00m \u001b[39mNone\u001b[39m\n\u001b[1;32m     71\u001b[0m \u001b[39mfinally\u001b[39;00m:\n\u001b[1;32m     72\u001b[0m     \u001b[39mdel\u001b[39;00m filtered_tb\n",
      "File \u001b[0;32m~/anaconda3/envs/tf/lib/python3.9/site-packages/tensorflow/python/eager/execute.py:54\u001b[0m, in \u001b[0;36mquick_execute\u001b[0;34m(op_name, num_outputs, inputs, attrs, ctx, name)\u001b[0m\n\u001b[1;32m     52\u001b[0m \u001b[39mtry\u001b[39;00m:\n\u001b[1;32m     53\u001b[0m   ctx\u001b[39m.\u001b[39mensure_initialized()\n\u001b[0;32m---> 54\u001b[0m   tensors \u001b[39m=\u001b[39m pywrap_tfe\u001b[39m.\u001b[39mTFE_Py_Execute(ctx\u001b[39m.\u001b[39m_handle, device_name, op_name,\n\u001b[1;32m     55\u001b[0m                                       inputs, attrs, num_outputs)\n\u001b[1;32m     56\u001b[0m \u001b[39mexcept\u001b[39;00m core\u001b[39m.\u001b[39m_NotOkStatusException \u001b[39mas\u001b[39;00m e:\n\u001b[1;32m     57\u001b[0m   \u001b[39mif\u001b[39;00m name \u001b[39mis\u001b[39;00m \u001b[39mnot\u001b[39;00m \u001b[39mNone\u001b[39;00m:\n",
      "\u001b[0;31mUnknownError\u001b[0m: Graph execution error:\n\nDetected at node 'cond/CudnnRNNV3' defined at (most recent call last):\n    File \"/home/rayed/anaconda3/envs/tf/lib/python3.9/runpy.py\", line 197, in _run_module_as_main\n      return _run_code(code, main_globals, None,\n    File \"/home/rayed/anaconda3/envs/tf/lib/python3.9/runpy.py\", line 87, in _run_code\n      exec(code, run_globals)\n    File \"/home/rayed/anaconda3/envs/tf/lib/python3.9/site-packages/ipykernel_launcher.py\", line 17, in <module>\n      app.launch_new_instance()\n    File \"/home/rayed/anaconda3/envs/tf/lib/python3.9/site-packages/traitlets/config/application.py\", line 982, in launch_instance\n      app.start()\n    File \"/home/rayed/anaconda3/envs/tf/lib/python3.9/site-packages/ipykernel/kernelapp.py\", line 712, in start\n      self.io_loop.start()\n    File \"/home/rayed/anaconda3/envs/tf/lib/python3.9/site-packages/tornado/platform/asyncio.py\", line 215, in start\n      self.asyncio_loop.run_forever()\n    File \"/home/rayed/anaconda3/envs/tf/lib/python3.9/asyncio/base_events.py\", line 601, in run_forever\n      self._run_once()\n    File \"/home/rayed/anaconda3/envs/tf/lib/python3.9/asyncio/base_events.py\", line 1905, in _run_once\n      handle._run()\n    File \"/home/rayed/anaconda3/envs/tf/lib/python3.9/asyncio/events.py\", line 80, in _run\n      self._context.run(self._callback, *self._args)\n    File \"/home/rayed/anaconda3/envs/tf/lib/python3.9/site-packages/ipykernel/kernelbase.py\", line 510, in dispatch_queue\n      await self.process_one()\n    File \"/home/rayed/anaconda3/envs/tf/lib/python3.9/site-packages/ipykernel/kernelbase.py\", line 499, in process_one\n      await dispatch(*args)\n    File \"/home/rayed/anaconda3/envs/tf/lib/python3.9/site-packages/ipykernel/kernelbase.py\", line 406, in dispatch_shell\n      await result\n    File \"/home/rayed/anaconda3/envs/tf/lib/python3.9/site-packages/ipykernel/kernelbase.py\", line 730, in execute_request\n      reply_content = await reply_content\n    File \"/home/rayed/anaconda3/envs/tf/lib/python3.9/site-packages/ipykernel/ipkernel.py\", line 383, in do_execute\n      res = shell.run_cell(\n    File \"/home/rayed/anaconda3/envs/tf/lib/python3.9/site-packages/ipykernel/zmqshell.py\", line 528, in run_cell\n      return super().run_cell(*args, **kwargs)\n    File \"/home/rayed/anaconda3/envs/tf/lib/python3.9/site-packages/IPython/core/interactiveshell.py\", line 2885, in run_cell\n      result = self._run_cell(\n    File \"/home/rayed/anaconda3/envs/tf/lib/python3.9/site-packages/IPython/core/interactiveshell.py\", line 2940, in _run_cell\n      return runner(coro)\n    File \"/home/rayed/anaconda3/envs/tf/lib/python3.9/site-packages/IPython/core/async_helpers.py\", line 129, in _pseudo_sync_runner\n      coro.send(None)\n    File \"/home/rayed/anaconda3/envs/tf/lib/python3.9/site-packages/IPython/core/interactiveshell.py\", line 3139, in run_cell_async\n      has_raised = await self.run_ast_nodes(code_ast.body, cell_name,\n    File \"/home/rayed/anaconda3/envs/tf/lib/python3.9/site-packages/IPython/core/interactiveshell.py\", line 3318, in run_ast_nodes\n      if await self.run_code(code, result, async_=asy):\n    File \"/home/rayed/anaconda3/envs/tf/lib/python3.9/site-packages/IPython/core/interactiveshell.py\", line 3378, in run_code\n      exec(code_obj, self.user_global_ns, self.user_ns)\n    File \"/tmp/ipykernel_755020/3020009550.py\", line 16, in <module>\n      model.fit(int_train_ds, validation_data=int_val_ds, epochs=10,\n    File \"/home/rayed/anaconda3/envs/tf/lib/python3.9/site-packages/keras/utils/traceback_utils.py\", line 65, in error_handler\n      return fn(*args, **kwargs)\n    File \"/home/rayed/anaconda3/envs/tf/lib/python3.9/site-packages/keras/engine/training.py\", line 1564, in fit\n      tmp_logs = self.train_function(iterator)\n    File \"/home/rayed/anaconda3/envs/tf/lib/python3.9/site-packages/keras/engine/training.py\", line 1160, in train_function\n      return step_function(self, iterator)\n    File \"/home/rayed/anaconda3/envs/tf/lib/python3.9/site-packages/keras/engine/training.py\", line 1146, in step_function\n      outputs = model.distribute_strategy.run(run_step, args=(data,))\n    File \"/home/rayed/anaconda3/envs/tf/lib/python3.9/site-packages/keras/engine/training.py\", line 1135, in run_step\n      outputs = model.train_step(data)\n    File \"/home/rayed/anaconda3/envs/tf/lib/python3.9/site-packages/keras/engine/training.py\", line 993, in train_step\n      y_pred = self(x, training=True)\n    File \"/home/rayed/anaconda3/envs/tf/lib/python3.9/site-packages/keras/utils/traceback_utils.py\", line 65, in error_handler\n      return fn(*args, **kwargs)\n    File \"/home/rayed/anaconda3/envs/tf/lib/python3.9/site-packages/keras/engine/training.py\", line 557, in __call__\n      return super().__call__(*args, **kwargs)\n    File \"/home/rayed/anaconda3/envs/tf/lib/python3.9/site-packages/keras/utils/traceback_utils.py\", line 65, in error_handler\n      return fn(*args, **kwargs)\n    File \"/home/rayed/anaconda3/envs/tf/lib/python3.9/site-packages/keras/engine/base_layer.py\", line 1097, in __call__\n      outputs = call_fn(inputs, *args, **kwargs)\n    File \"/home/rayed/anaconda3/envs/tf/lib/python3.9/site-packages/keras/utils/traceback_utils.py\", line 96, in error_handler\n      return fn(*args, **kwargs)\n    File \"/home/rayed/anaconda3/envs/tf/lib/python3.9/site-packages/keras/engine/functional.py\", line 510, in call\n      return self._run_internal_graph(inputs, training=training, mask=mask)\n    File \"/home/rayed/anaconda3/envs/tf/lib/python3.9/site-packages/keras/engine/functional.py\", line 667, in _run_internal_graph\n      outputs = node.layer(*args, **kwargs)\n    File \"/home/rayed/anaconda3/envs/tf/lib/python3.9/site-packages/keras/layers/rnn/bidirectional.py\", line 277, in __call__\n      return super().__call__(inputs, **kwargs)\n    File \"/home/rayed/anaconda3/envs/tf/lib/python3.9/site-packages/keras/utils/traceback_utils.py\", line 65, in error_handler\n      return fn(*args, **kwargs)\n    File \"/home/rayed/anaconda3/envs/tf/lib/python3.9/site-packages/keras/engine/base_layer.py\", line 1097, in __call__\n      outputs = call_fn(inputs, *args, **kwargs)\n    File \"/home/rayed/anaconda3/envs/tf/lib/python3.9/site-packages/keras/utils/traceback_utils.py\", line 96, in error_handler\n      return fn(*args, **kwargs)\n    File \"/home/rayed/anaconda3/envs/tf/lib/python3.9/site-packages/keras/layers/rnn/bidirectional.py\", line 404, in call\n      y = self.forward_layer(\n    File \"/home/rayed/anaconda3/envs/tf/lib/python3.9/site-packages/keras/layers/rnn/base_rnn.py\", line 553, in __call__\n      return super().__call__(inputs, **kwargs)\n    File \"/home/rayed/anaconda3/envs/tf/lib/python3.9/site-packages/keras/utils/traceback_utils.py\", line 65, in error_handler\n      return fn(*args, **kwargs)\n    File \"/home/rayed/anaconda3/envs/tf/lib/python3.9/site-packages/keras/engine/base_layer.py\", line 1097, in __call__\n      outputs = call_fn(inputs, *args, **kwargs)\n    File \"/home/rayed/anaconda3/envs/tf/lib/python3.9/site-packages/keras/utils/traceback_utils.py\", line 96, in error_handler\n      return fn(*args, **kwargs)\n    File \"/home/rayed/anaconda3/envs/tf/lib/python3.9/site-packages/keras/layers/rnn/lstm.py\", line 751, in call\n      ) = lstm_with_backend_selection(**normal_lstm_kwargs)\n    File \"/home/rayed/anaconda3/envs/tf/lib/python3.9/site-packages/keras/layers/rnn/lstm.py\", line 1356, in lstm_with_backend_selection\n      gru_lstm_utils.function_register(defun_gpu_lstm, **params)\n    File \"/home/rayed/anaconda3/envs/tf/lib/python3.9/site-packages/keras/layers/rnn/gru_lstm_utils.py\", line 257, in function_register\n      concrete_func = func.get_concrete_function(*args, **kwargs)\n    File \"/home/rayed/anaconda3/envs/tf/lib/python3.9/site-packages/keras/layers/rnn/lstm.py\", line 1305, in gpu_lstm_with_fallback\n      return tf.cond(\n    File \"/home/rayed/anaconda3/envs/tf/lib/python3.9/site-packages/keras/layers/rnn/lstm.py\", line 1275, in cudnn_lstm_fn\n      return gpu_lstm(\n    File \"/home/rayed/anaconda3/envs/tf/lib/python3.9/site-packages/keras/layers/rnn/lstm.py\", line 1115, in gpu_lstm\n      outputs, h, c, _, _ = tf.raw_ops.CudnnRNNV3(\nNode: 'cond/CudnnRNNV3'\nFail to find the dnn implementation.\n\t [[{{node cond/CudnnRNNV3}}]]\n\t [[model_2/bidirectional_2/forward_lstm_2/PartitionedCall]] [Op:__inference_train_function_45346]"
     ]
    }
   ],
   "source": [
    "inputs = keras.Input(shape=(None,), dtype=\"int64\")\n",
    "embedded = embedding_layer(inputs)\n",
    "x = layers.Bidirectional(layers.LSTM(32))(embedded)\n",
    "x = layers.Dropout(0.5)(x)\n",
    "outputs = layers.Dense(1, activation=\"sigmoid\")(x)\n",
    "model = keras.Model(inputs, outputs)\n",
    "model.compile(optimizer=\"rmsprop\",\n",
    "              loss=\"binary_crossentropy\",\n",
    "              metrics=[\"accuracy\"])\n",
    "model.summary()\n",
    "  \n",
    "callbacks = [\n",
    "    keras.callbacks.ModelCheckpoint(\"glove_embeddings_sequence_model.keras\",\n",
    "                                    save_best_only=True)\n",
    "]\n",
    "model.fit(int_train_ds, validation_data=int_val_ds, epochs=10,\n",
    "          callbacks=callbacks)\n",
    "model = keras.models.load_model(\"glove_embeddings_sequence_model.keras\")\n",
    "print(f\"Test acc: {model.evaluate(int_test_ds)[1]:.3f}\")"
   ]
  },
  {
   "cell_type": "code",
   "execution_count": null,
   "metadata": {},
   "outputs": [],
   "source": []
  }
 ],
 "metadata": {
  "kernelspec": {
   "display_name": "Python 3.9.13 ('tf')",
   "language": "python",
   "name": "python3"
  },
  "language_info": {
   "codemirror_mode": {
    "name": "ipython",
    "version": 3
   },
   "file_extension": ".py",
   "mimetype": "text/x-python",
   "name": "python",
   "nbconvert_exporter": "python",
   "pygments_lexer": "ipython3",
   "version": "3.9.13"
  },
  "orig_nbformat": 4,
  "vscode": {
   "interpreter": {
    "hash": "3c4321ab1b242d2e066d5c4b9cff33f957cb21b09244bbe06e7a100233295ac7"
   }
  }
 },
 "nbformat": 4,
 "nbformat_minor": 2
}
